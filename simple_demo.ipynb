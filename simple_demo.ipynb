{
 "cells": [
  {
   "cell_type": "markdown",
   "metadata": {},
   "source": [
    "## Demo of the contribution submitted at ECML-PKDD 2019\n",
    "This notebook allows to easily test the method introduced in the article:\n",
    "\n",
    "`Detecting Stable Communities in Link Streams at Multiple Temporal Scales`"
   ]
  },
  {
   "cell_type": "markdown",
   "metadata": {},
   "source": [
    "### tnetwork library installation\n",
    "The code is built on a custom library, that need to be installed using pip first.\n",
    "If you're running this code online, you probably need to execute the command in the next cell"
   ]
  },
  {
   "cell_type": "code",
   "execution_count": 2,
   "metadata": {},
   "outputs": [],
   "source": [
    "#!pip install --upgrade git+https://github.com/Yquetzal/tnetwork.git"
   ]
  },
  {
   "cell_type": "markdown",
   "metadata": {},
   "source": [
    "### We can now import a set of useful libraries"
   ]
  },
  {
   "cell_type": "code",
   "execution_count": 1,
   "metadata": {},
   "outputs": [],
   "source": [
    "import tnetwork as tn\n",
    "import networkx as nx\n",
    "from bokeh.io import show, output_notebook, output_file, reset_output\n",
    "from bokeh.layouts import row"
   ]
  },
  {
   "cell_type": "markdown",
   "metadata": {},
   "source": [
    "We finally import the methods introduced in the article. Note that their code is integrated in the tnetwork library, but also availale as stand-alones on the same git repository as this file"
   ]
  },
  {
   "cell_type": "code",
   "execution_count": null,
   "metadata": {},
   "outputs": [],
   "source": [
    "#Stable community detection method\n",
    "from tnetwork.DCD.pure_python.community_tracker import track_communities \n",
    "#Generator\n",
    "from tnetwork.DCD.multi_temporal_scale import generate_multi_temporal_scale"
   ]
  },
  {
   "cell_type": "markdown",
   "metadata": {},
   "source": [
    "## Generate a random graph with multiple temporal scale communities\n"
   ]
  },
  {
   "cell_type": "code",
   "execution_count": 66,
   "metadata": {},
   "outputs": [],
   "source": [
    "T=5000\n",
    "N= 50\n",
    "SC=5\n",
    "graph,original_coms = generate_multi_temporal_scale(nb_steps=T,nb_nodes=N,nb_com = SC)"
   ]
  },
  {
   "cell_type": "markdown",
   "metadata": {},
   "source": [
    "## Plot the communities to discover\n",
    "Each horizontal position corresponds to a node, color lines represent communities"
   ]
  },
  {
   "cell_type": "code",
   "execution_count": 67,
   "metadata": {},
   "outputs": [
    {
     "name": "stderr",
     "output_type": "stream",
     "text": [
      "/Users/cazabetremy/anaconda3/lib/python3.6/site-packages/numpy/core/numeric.py:2591: FutureWarning: elementwise comparison failed; returning scalar instead, but in the future will perform elementwise comparison\n",
      "  return bool(asarray(a1 == a2).all())\n"
     ]
    }
   ],
   "source": [
    "output_file(\"ground_truth.html\")\n",
    "p = tn.plot_longitudinal(tn.DynGraphIG(),original_coms.to_DynCommunitiesIG(sn_duration=1),nodes=[str(x) for x in range(50)],height=400)\n",
    "show(p)"
   ]
  },
  {
   "cell_type": "markdown",
   "metadata": {},
   "source": [
    "## Detect stable communities using the proposed algorithm"
   ]
  },
  {
   "cell_type": "code",
   "execution_count": 69,
   "metadata": {},
   "outputs": [
    {
     "name": "stdout",
     "output_type": "stream",
     "text": [
      "[1666, 833, 416, 208, 104, 52, 26, 13, 6, 3, 1]\n",
      "------- 1666\n",
      "aggregating graph\n",
      "computing communities\n",
      "computing quality for each com\n",
      "#nb seeds total 28\n",
      "#nb good seeds 0\n",
      "#nb different seeds 0\n",
      "tracking\n",
      "# persistent communities 0\n",
      "------- 833\n",
      "aggregating graph\n",
      "computing communities\n",
      "computing quality for each com\n",
      "#nb seeds total 104\n",
      "#nb good seeds 29\n",
      "#nb different seeds 29\n",
      "tracking\n",
      "# persistent communities 0\n",
      "------- 416\n",
      "aggregating graph\n",
      "computing communities\n",
      "computing quality for each com\n",
      "#nb seeds total 571\n",
      "#nb good seeds 68\n",
      "#nb different seeds 68\n",
      "tracking\n",
      "# persistent communities 0\n",
      "------- 208\n",
      "aggregating graph\n",
      "computing communities\n",
      "computing quality for each com\n",
      "#nb seeds total 1542\n",
      "#nb good seeds 97\n",
      "#nb different seeds 97\n",
      "tracking\n",
      "# persistent communities 11\n",
      "------- 104\n",
      "aggregating graph\n",
      "computing communities\n",
      "computing quality for each com\n",
      "#nb seeds total 3617\n",
      "#nb good seeds 134\n",
      "#nb different seeds 78\n",
      "tracking\n",
      "# persistent communities 26\n",
      "------- 52\n",
      "aggregating graph\n",
      "computing communities\n",
      "computing quality for each com\n",
      "#nb seeds total 7794\n",
      "#nb good seeds 235\n",
      "#nb different seeds 53\n",
      "tracking\n",
      "# persistent communities 34\n",
      "------- 26\n",
      "aggregating graph\n",
      "computing communities\n",
      "computing quality for each com\n",
      "#nb seeds total 16099\n",
      "#nb good seeds 400\n",
      "#nb different seeds 44\n",
      "tracking\n",
      "# persistent communities 41\n",
      "------- 13\n",
      "aggregating graph\n",
      "computing communities\n",
      "computing quality for each com\n",
      "#nb seeds total 33106\n",
      "#nb good seeds 667\n",
      "#nb different seeds 59\n",
      "tracking\n",
      "# persistent communities 47\n",
      "------- 6\n",
      "aggregating graph\n",
      "computing communities\n",
      "computing quality for each com\n",
      "#nb seeds total 72568\n",
      "#nb good seeds 840\n",
      "#nb different seeds 88\n",
      "tracking\n",
      "# persistent communities 50\n",
      "------- 3\n",
      "aggregating graph\n",
      "computing communities\n",
      "computing quality for each com\n",
      "#nb seeds total 140723\n",
      "#nb good seeds 629\n",
      "#nb different seeds 74\n",
      "tracking\n",
      "# persistent communities 53\n",
      "------- 1\n",
      "aggregating graph\n",
      "computing communities\n",
      "computing quality for each com\n",
      "#nb seeds total 339610\n",
      "#nb good seeds 172\n",
      "#nb different seeds 18\n",
      "tracking\n",
      "# persistent communities 53\n"
     ]
    }
   ],
   "source": [
    "winsow_size = nb_steps/3\n",
    "time_periods = [int(winsow_size)]\n",
    "while winsow_size>1:\n",
    "    winsow_size = int(winsow_size/2)\n",
    "    time_periods.append(winsow_size)\n",
    "\n",
    "(persistant_coms,_,_) = track_communities(graph,time_periods)"
   ]
  },
  {
   "cell_type": "markdown",
   "metadata": {},
   "source": [
    "## Plot the discovered communities\n",
    "We first define a function to select resulting communities according to their quality score SQ, and/or their relation"
   ]
  },
  {
   "cell_type": "code",
   "execution_count": 70,
   "metadata": {},
   "outputs": [
    {
     "name": "stdout",
     "output_type": "stream",
     "text": [
      "The autoreload extension is already loaded. To reload it, use:\n",
      "  %reload_ext autoreload\n"
     ]
    },
    {
     "name": "stderr",
     "output_type": "stream",
     "text": [
      "/Users/cazabetremy/anaconda3/lib/python3.6/site-packages/numpy/core/numeric.py:2591: FutureWarning: elementwise comparison failed; returning scalar instead, but in the future will perform elementwise comparison\n",
      "  return bool(asarray(a1 == a2).all())\n"
     ]
    }
   ],
   "source": [
    "def most_stable_communities(persistant_coms,nb_coms=None,duration_min=0,duration_max=10000000):\n",
    "    visu_blocks = tn.DynCommunitiesIG()\n",
    "    if nb_coms==None:\n",
    "        nb_coms = len(persistant_coms)\n",
    "    for nodes,period,current_granularity,score in persistant_coms[:nb_coms]:\n",
    "        if period.duration()>duration_min and period.duration()<duration_max:\n",
    "            name = str(current_granularity)+\" \"+str(nodes)\n",
    "            #name = str(c_prop[4])\n",
    "            visu_blocks.add_affiliation(nodes,name,period)\n",
    "    return visu_blocks\n",
    "#visu_blocks = tn.DynCommunitiesIG()"
   ]
  },
  {
   "cell_type": "markdown",
   "metadata": {},
   "source": [
    "### Plot communities found, to compare them visually"
   ]
  },
  {
   "cell_type": "code",
   "execution_count": null,
   "metadata": {},
   "outputs": [],
   "source": [
    "com_to_plot = most_stable_communities(persistant_coms,nb_coms=40)\n",
    "p = tn.plot_longitudinal(tn.DynGraphIG(),com_to_plot,nodes=[str(x) for x in range(50)],height=400)\n",
    "output_file(\"found.html\")\n",
    "show(p)"
   ]
  },
  {
   "cell_type": "markdown",
   "metadata": {},
   "source": [
    "## First evaluation: We compute the NMI between communities in the ground truth (ignoring time) and:\n",
    "\n",
    " 1) communities found on the cumulated graph\n",
    " \n",
    " 2) communities found by our algorithm (ignoring time)"
   ]
  },
  {
   "cell_type": "markdown",
   "metadata": {},
   "source": [
    "### First, detect communities on the cumulated graph"
   ]
  },
  {
   "cell_type": "code",
   "execution_count": 71,
   "metadata": {},
   "outputs": [],
   "source": [
    "cumulated_graph = nx.Graph()\n",
    "cumulated_graph = graph.cumulated_graph()"
   ]
  },
  {
   "cell_type": "code",
   "execution_count": 72,
   "metadata": {},
   "outputs": [],
   "source": [
    "CUMULATED_coms = best_partition(cumulated_graph)\n",
    "nodeSet = tn.utils.community_utils.affiliations2nodesets(CUMULATED_coms)\n",
    "CUMULATED_coms = list(nodeSet.values())"
   ]
  },
  {
   "cell_type": "markdown",
   "metadata": {},
   "source": [
    "### get communities in the ground truth"
   ]
  },
  {
   "cell_type": "code",
   "execution_count": 73,
   "metadata": {},
   "outputs": [],
   "source": [
    "from tnetwork.DCD.analytics.NMIs import NMI\n",
    "GT_coms = []\n",
    "for a_com in original_coms.communities().values():\n",
    "    GT_coms.append(set(a_com.keys()))\n"
   ]
  },
  {
   "cell_type": "markdown",
   "metadata": {},
   "source": [
    "### get communities in our solution"
   ]
  },
  {
   "cell_type": "code",
   "execution_count": 74,
   "metadata": {},
   "outputs": [],
   "source": [
    "OUR_coms = []\n",
    "for a_com in com_to_plot.communities().values():\n",
    "    OUR_coms.append(set(a_com.keys()))"
   ]
  },
  {
   "cell_type": "markdown",
   "metadata": {},
   "source": [
    "### Compute NMIs"
   ]
  },
  {
   "cell_type": "code",
   "execution_count": 75,
   "metadata": {},
   "outputs": [
    {
     "name": "stdout",
     "output_type": "stream",
     "text": [
      "NMI for cumulated:  0.21485577256207966\n",
      "NMI for proposed solution:  0.6987209133347945\n"
     ]
    }
   ],
   "source": [
    "print(\"NMI for cumulated: \",NMI(GT_coms,CUMULATED_coms))\n",
    "print(\"NMI for proposed solution: \",NMI(GT_coms,OUR_coms))"
   ]
  }
 ],
 "metadata": {
  "kernelspec": {
   "display_name": "Python 3",
   "language": "python",
   "name": "python3"
  },
  "language_info": {
   "codemirror_mode": {
    "name": "ipython",
    "version": 3
   },
   "file_extension": ".py",
   "mimetype": "text/x-python",
   "name": "python",
   "nbconvert_exporter": "python",
   "pygments_lexer": "ipython3",
   "version": "3.6.3"
  }
 },
 "nbformat": 4,
 "nbformat_minor": 2
}
