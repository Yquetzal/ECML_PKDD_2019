{
  "nbformat": 4,
  "nbformat_minor": 0,
  "metadata": {
    "kernelspec": {
      "display_name": "Python 3",
      "language": "python",
      "name": "python3"
    },
    "language_info": {
      "codemirror_mode": {
        "name": "ipython",
        "version": 3
      },
      "file_extension": ".py",
      "mimetype": "text/x-python",
      "name": "python",
      "nbconvert_exporter": "python",
      "pygments_lexer": "ipython3",
      "version": "3.6.3"
    },
    "colab": {
      "name": "simple_demo.ipynb",
      "provenance": [],
      "include_colab_link": true
    }
  },
  "cells": [
    {
      "cell_type": "markdown",
      "metadata": {
        "id": "view-in-github",
        "colab_type": "text"
      },
      "source": [
        "<a href=\"https://colab.research.google.com/github/Yquetzal/ECML_PKDD_2019/blob/master/simple_demo.ipynb\" target=\"_parent\"><img src=\"https://colab.research.google.com/assets/colab-badge.svg\" alt=\"Open In Colab\"/></a>"
      ]
    },
    {
      "cell_type": "markdown",
      "metadata": {
        "id": "b8bnWPOQiW6L",
        "colab_type": "text"
      },
      "source": [
        "## Demo of the contribution submitted at LEG workshop at ECML-PKDD 2019\n",
        "This notebook allows to easily test the method introduced in the article:\n",
        "\n",
        "`Detecting Stable Communities in Link Streams at Multiple Temporal Scales`\n",
        "\n",
        "Authors: `Souâad Boudebza, Rémy Cazabet, Omar Nouali, Faiçal Azouaou`"
      ]
    },
    {
      "cell_type": "markdown",
      "metadata": {
        "id": "mJQ9NXmsiW6R",
        "colab_type": "text"
      },
      "source": [
        "### `tnetwork` library installation\n",
        "The code is built on a custom library, that must be first installed using `pip`.\n",
        "If you're running this code online, you probably need to execute the command in the next cell.\n",
        "The documentation of this library can be found at: http://tnetwork.readthedocs.io/"
      ]
    },
    {
      "cell_type": "code",
      "metadata": {
        "id": "B_O1m7t4iW6T",
        "colab_type": "code",
        "colab": {
          "base_uri": "https://localhost:8080/",
          "height": 663
        },
        "outputId": "986e89d4-639a-443e-b846-602978e0081f"
      },
      "source": [
        "!pip install --upgrade git+https://github.com/Yquetzal/tnetwork.git"
      ],
      "execution_count": 1,
      "outputs": [
        {
          "output_type": "stream",
          "text": [
            "Collecting git+https://github.com/Yquetzal/tnetwork.git\n",
            "  Cloning https://github.com/Yquetzal/tnetwork.git to /tmp/pip-req-build-f_xptghm\n",
            "  Running command git clone -q https://github.com/Yquetzal/tnetwork.git /tmp/pip-req-build-f_xptghm\n",
            "Requirement already satisfied, skipping upgrade: numpy in /usr/local/lib/python3.6/dist-packages (from tnetwork==0.1) (1.18.2)\n",
            "Requirement already satisfied, skipping upgrade: matplotlib in /usr/local/lib/python3.6/dist-packages (from tnetwork==0.1) (3.2.1)\n",
            "Requirement already satisfied, skipping upgrade: scikit-learn in /usr/local/lib/python3.6/dist-packages (from tnetwork==0.1) (0.22.2.post1)\n",
            "Requirement already satisfied, skipping upgrade: networkx>=2.4 in /usr/local/lib/python3.6/dist-packages (from tnetwork==0.1) (2.4)\n",
            "Requirement already satisfied, skipping upgrade: pandas in /usr/local/lib/python3.6/dist-packages (from tnetwork==0.1) (0.25.3)\n",
            "Requirement already satisfied, skipping upgrade: bokeh in /usr/local/lib/python3.6/dist-packages (from tnetwork==0.1) (1.4.0)\n",
            "Requirement already satisfied, skipping upgrade: progressbar2 in /usr/local/lib/python3.6/dist-packages (from tnetwork==0.1) (3.38.0)\n",
            "Requirement already satisfied, skipping upgrade: bidict in /usr/local/lib/python3.6/dist-packages (from tnetwork==0.1) (0.19.0)\n",
            "Requirement already satisfied, skipping upgrade: pyparsing!=2.0.4,!=2.1.2,!=2.1.6,>=2.0.1 in /usr/local/lib/python3.6/dist-packages (from matplotlib->tnetwork==0.1) (2.4.6)\n",
            "Requirement already satisfied, skipping upgrade: kiwisolver>=1.0.1 in /usr/local/lib/python3.6/dist-packages (from matplotlib->tnetwork==0.1) (1.1.0)\n",
            "Requirement already satisfied, skipping upgrade: cycler>=0.10 in /usr/local/lib/python3.6/dist-packages (from matplotlib->tnetwork==0.1) (0.10.0)\n",
            "Requirement already satisfied, skipping upgrade: python-dateutil>=2.1 in /usr/local/lib/python3.6/dist-packages (from matplotlib->tnetwork==0.1) (2.8.1)\n",
            "Requirement already satisfied, skipping upgrade: joblib>=0.11 in /usr/local/lib/python3.6/dist-packages (from scikit-learn->tnetwork==0.1) (0.14.1)\n",
            "Requirement already satisfied, skipping upgrade: scipy>=0.17.0 in /usr/local/lib/python3.6/dist-packages (from scikit-learn->tnetwork==0.1) (1.4.1)\n",
            "Requirement already satisfied, skipping upgrade: decorator>=4.3.0 in /usr/local/lib/python3.6/dist-packages (from networkx>=2.4->tnetwork==0.1) (4.4.2)\n",
            "Requirement already satisfied, skipping upgrade: pytz>=2017.2 in /usr/local/lib/python3.6/dist-packages (from pandas->tnetwork==0.1) (2018.9)\n",
            "Requirement already satisfied, skipping upgrade: PyYAML>=3.10 in /usr/local/lib/python3.6/dist-packages (from bokeh->tnetwork==0.1) (3.13)\n",
            "Requirement already satisfied, skipping upgrade: Jinja2>=2.7 in /usr/local/lib/python3.6/dist-packages (from bokeh->tnetwork==0.1) (2.11.1)\n",
            "Requirement already satisfied, skipping upgrade: pillow>=4.0 in /usr/local/lib/python3.6/dist-packages (from bokeh->tnetwork==0.1) (7.0.0)\n",
            "Requirement already satisfied, skipping upgrade: six>=1.5.2 in /usr/local/lib/python3.6/dist-packages (from bokeh->tnetwork==0.1) (1.12.0)\n",
            "Requirement already satisfied, skipping upgrade: tornado>=4.3 in /usr/local/lib/python3.6/dist-packages (from bokeh->tnetwork==0.1) (4.5.3)\n",
            "Requirement already satisfied, skipping upgrade: packaging>=16.8 in /usr/local/lib/python3.6/dist-packages (from bokeh->tnetwork==0.1) (20.3)\n",
            "Requirement already satisfied, skipping upgrade: python-utils>=2.3.0 in /usr/local/lib/python3.6/dist-packages (from progressbar2->tnetwork==0.1) (2.4.0)\n",
            "Requirement already satisfied, skipping upgrade: setuptools in /usr/local/lib/python3.6/dist-packages (from kiwisolver>=1.0.1->matplotlib->tnetwork==0.1) (46.0.0)\n",
            "Requirement already satisfied, skipping upgrade: MarkupSafe>=0.23 in /usr/local/lib/python3.6/dist-packages (from Jinja2>=2.7->bokeh->tnetwork==0.1) (1.1.1)\n",
            "Building wheels for collected packages: tnetwork\n",
            "  Building wheel for tnetwork (setup.py) ... \u001b[?25l\u001b[?25hdone\n",
            "  Created wheel for tnetwork: filename=tnetwork-0.1-cp36-none-any.whl size=42464790 sha256=769857b7cdf87a10ac45f472101c1628c416aedbc624b17abebefb98e00122fa\n",
            "  Stored in directory: /tmp/pip-ephem-wheel-cache-efi65xea/wheels/37/e6/30/4a9dea27eda470206092f8a68fd6ed5887aff43855545d906b\n",
            "Successfully built tnetwork\n",
            "Installing collected packages: tnetwork\n",
            "  Found existing installation: tnetwork 0.1\n",
            "    Uninstalling tnetwork-0.1:\n",
            "      Successfully uninstalled tnetwork-0.1\n",
            "Successfully installed tnetwork-0.1\n"
          ],
          "name": "stdout"
        }
      ]
    },
    {
      "cell_type": "markdown",
      "metadata": {
        "id": "VE1MMIhkiW6e",
        "colab_type": "text"
      },
      "source": [
        "### We can now import a set of useful libraries"
      ]
    },
    {
      "cell_type": "code",
      "metadata": {
        "id": "Pz3U1fUfiW6g",
        "colab_type": "code",
        "colab": {}
      },
      "source": [
        "import tnetwork as tn\n",
        "import networkx as nx\n",
        "import numpy as np\n",
        "from bokeh.io import show, output_notebook, output_file, reset_output\n",
        "from bokeh.layouts import row\n",
        "from tnetwork.DCD.analytics.NMIs import NMI"
      ],
      "execution_count": 0,
      "outputs": []
    },
    {
      "cell_type": "markdown",
      "metadata": {
        "id": "3h-NGPn1iW6p",
        "colab_type": "text"
      },
      "source": [
        "We finally import the methods introduced in the article. Note that their code is integrated in the tnetwork library, but also availale as stand-alones on the same git repository as this file"
      ]
    },
    {
      "cell_type": "code",
      "metadata": {
        "id": "ECUYIUggiW6r",
        "colab_type": "code",
        "colab": {}
      },
      "source": [
        "# Our proposed method: Multiple Temporal Scale Stable Community Detection method\n",
        "from tnetwork.DCD import MSSCD  \n",
        "#Generator\n",
        "from tnetwork.DCD.multi_temporal_scale import generate_multi_temporal_scale"
      ],
      "execution_count": 0,
      "outputs": []
    },
    {
      "cell_type": "markdown",
      "metadata": {
        "id": "JEQiz5sBiW6w",
        "colab_type": "text"
      },
      "source": [
        "## Generate a random graph with multiple temporal scale communities\n"
      ]
    },
    {
      "cell_type": "code",
      "metadata": {
        "id": "y32GZhCQiW6z",
        "colab_type": "code",
        "colab": {}
      },
      "source": [
        "T=1000\n",
        "N= 50\n",
        "SC=5\n",
        "#return the generated dynamic graph and the discovered communities\n",
        "generated_graph,original_coms = generate_multi_temporal_scale(nb_steps=T,nb_nodes=N,nb_com = SC)"
      ],
      "execution_count": 0,
      "outputs": []
    },
    {
      "cell_type": "markdown",
      "metadata": {
        "id": "sp4NYm7BiW67",
        "colab_type": "text"
      },
      "source": [
        "## Plot the communities to discover\n",
        "Each horizontal position corresponds to a node, color lines represent communities\n",
        "\n",
        "* /!\\ In the google colab notebook, one cannot open plots in new windows, so we use `output_notebook` and not `output_file`, to display the plots inline. This might slow down the notebook."
      ]
    },
    {
      "cell_type": "code",
      "metadata": {
        "id": "AscsidaHiW69",
        "colab_type": "code",
        "colab": {
          "base_uri": "https://localhost:8080/",
          "height": 416
        },
        "outputId": "3079ee98-d634-49da-a8dd-9ef49e9d7d7e"
      },
      "source": [
        "\n",
        "#define the order in which to display nodes\n",
        "node_order=[str(x) for x in range(N)]\n",
        "#convert the communities from a format as sequence of snapshots to a format as interval graphs. Each snapshot has a duration of 1.\n",
        "communities_GT = original_coms.to_DynCommunitiesIG(sn_duration=1)\n",
        "tn.plot_longitudinal(tn.DynGraphIG(),communities_GT,nodes=node_order,height=400)\n"
      ],
      "execution_count": 9,
      "outputs": [
        {
          "output_type": "stream",
          "text": [
            "/usr/local/lib/python3.6/dist-packages/numpy/core/numeric.py:2327: FutureWarning: elementwise comparison failed; returning scalar instead, but in the future will perform elementwise comparison\n",
            "  return bool(asarray(a1 == a2).all())\n"
          ],
          "name": "stderr"
        },
        {
          "output_type": "display_data",
          "data": {
            "image/png": "[encoded data removed]",
            "text/plain": [
              "<Figure size 800x400 with 1 Axes>"
            ]
          },
          "metadata": {
            "tags": []
          }
        }
      ]
    },
    {
      "cell_type": "markdown",
      "metadata": {
        "id": "wX2xo6UCiW7C",
        "colab_type": "text"
      },
      "source": [
        "## Detect stable communities using the proposed algorithm"
      ]
    },
    {
      "cell_type": "code",
      "metadata": {
        "id": "t65hPJ5ciW7E",
        "colab_type": "code",
        "colab": {
          "base_uri": "https://localhost:8080/",
          "height": 153
        },
        "outputId": "173c9c1f-2072-469e-fbb8-b5c3858d841e"
      },
      "source": [
        "#we re-state default parameters:\n",
        "theta_gamma = 1 #minimum temporal scale to consider\n",
        "theta_q = 0.7 #minimum quality\n",
        "theta_s = 0.3 #maximum similarity to be considered different\n",
        "theta_p = 3 #nb consecutive steps to be considered persistant\n",
        "\n",
        "#persistant_coms is a list of quadruplets (nodes,period,granularity,total_quality_score)\n",
        "persistant_coms = MSSCD(generated_graph,t_persistance=theta_p,t_quality=theta_q,t_similarity=theta_s)"
      ],
      "execution_count": 10,
      "outputs": [
        {
          "output_type": "stream",
          "text": [
            "------- granularity (gamma):  333  |  # good seeds:  1 # persistent communities found (total):  0\n",
            "------- granularity (gamma):  166  |  # good seeds:  1 # persistent communities found (total):  0\n",
            "------- granularity (gamma):  83  |  # good seeds:  9 # persistent communities found (total):  1\n",
            "------- granularity (gamma):  41  |  # good seeds:  19 # persistent communities found (total):  2\n",
            "------- granularity (gamma):  20  |  # good seeds:  35 # persistent communities found (total):  4\n",
            "------- granularity (gamma):  10  |  # good seeds:  43 # persistent communities found (total):  4\n",
            "------- granularity (gamma):  5  |  # good seeds:  41 # persistent communities found (total):  5\n",
            "------- granularity (gamma):  2  |  # good seeds:  28 # persistent communities found (total):  5\n"
          ],
          "name": "stdout"
        }
      ]
    },
    {
      "cell_type": "markdown",
      "metadata": {
        "id": "ne4yKuxciW7L",
        "colab_type": "text"
      },
      "source": [
        "### Plot communities found, to compare them visually\n",
        "We first convert found stable communities in the appropriate dynamic community format. We use a function allowing to filter communities, that we will use also later for real communities"
      ]
    },
    {
      "cell_type": "code",
      "metadata": {
        "id": "P8h3rDNbiW7N",
        "colab_type": "code",
        "colab": {}
      },
      "source": [
        "def convert_stable_communities(persistant_coms,nb_coms=None,duration_min=0,duration_max=10000000):\n",
        "    visu_blocks = tn.DynCommunitiesIG()\n",
        "    if nb_coms==None:\n",
        "        nb_coms = len(persistant_coms)\n",
        "    for nodes,period,current_granularity,score in persistant_coms[:nb_coms]:\n",
        "        if period.duration()>duration_min and period.duration()<duration_max:\n",
        "            #we give a unique name to each community, since colors are attributed according to community names\n",
        "            name = str(period.start()).zfill(5)+\",\"+str(nodes)+\",\"+str(current_granularity)\n",
        "            visu_blocks.add_affiliation(nodes,name,period)\n",
        "    return visu_blocks"
      ],
      "execution_count": 0,
      "outputs": []
    },
    {
      "cell_type": "markdown",
      "metadata": {
        "id": "LTvwP7huiW7Q",
        "colab_type": "text"
      },
      "source": [
        "We can now plot found communities, using the same function as previously"
      ]
    },
    {
      "cell_type": "code",
      "metadata": {
        "id": "pG5nSadyiW7R",
        "colab_type": "code",
        "colab": {
          "base_uri": "https://localhost:8080/",
          "height": 416
        },
        "outputId": "c22f0265-1a90-4093-963a-132ea12462a1"
      },
      "source": [
        "found_stable_communities = convert_stable_communities(persistant_coms)\n",
        "tn.plot_longitudinal(tn.DynGraphIG(),found_stable_communities,nodes=node_order,height=400)\n"
      ],
      "execution_count": 12,
      "outputs": [
        {
          "output_type": "stream",
          "text": [
            "/usr/local/lib/python3.6/dist-packages/numpy/core/numeric.py:2327: FutureWarning: elementwise comparison failed; returning scalar instead, but in the future will perform elementwise comparison\n",
            "  return bool(asarray(a1 == a2).all())\n"
          ],
          "name": "stderr"
        },
        {
          "output_type": "display_data",
          "data": {
            "image/png": "[encoded data removed]",
            "text/plain": [
              "<Figure size 800x400 with 1 Axes>"
            ]
          },
          "metadata": {
            "tags": []
          }
        }
      ]
    },
    {
      "cell_type": "markdown",
      "metadata": {
        "id": "asu29saUiW7V",
        "colab_type": "text"
      },
      "source": [
        "## Compute NMI at each step\n",
        "We compute the NMI between the plnated communities and: i) our communities ii) communities found by another dynamic community detection algorithm (`Tracking the evolution of communities in dynamic social networks`, `Greene et al. 2010`)"
      ]
    },
    {
      "cell_type": "code",
      "metadata": {
        "id": "_RfrMJPwiW7W",
        "colab_type": "code",
        "colab": {}
      },
      "source": [
        "#detect communities according to the other solution. We first aggregate the graph at the desired granularity\n",
        "\n",
        "#aggregate the graph at the desired granularity\n",
        "granularity = 13\n",
        "aggregated = generated_graph.aggregate_sliding_window(granularity)\n",
        "\n",
        "#compute communities\n",
        "baseline_communities = tn.DCD.iterative_match(aggregated).to_DynCommunitiesIG(sn_duration=granularity)"
      ],
      "execution_count": 0,
      "outputs": []
    },
    {
      "cell_type": "code",
      "metadata": {
        "id": "2XaGXEuJiW7Z",
        "colab_type": "code",
        "colab": {}
      },
      "source": [
        "NMIs_found = []\n",
        "NMI_baseline = []\n",
        "for t in range(T):\n",
        "    g = generated_graph.snapshots(t)\n",
        "    #get the community structure at that step\n",
        "    GT_com_t = list(communities_GT.communities(t).values())\n",
        "    \n",
        "    #we compute NMI only when there are communities \n",
        "    #(actually favorizing the baseline, that find communities even when there aren't)\n",
        "    if len(GT_com_t)>0: \n",
        "        found_com_t = list(found_stable_communities.communities(t).values())\n",
        "        baseline_com_t = list(baseline_communities.communities(t).values())\n",
        "\n",
        "        #compute NMIs\n",
        "        nodes_at_t = g.nodes\n",
        "        NMIs_found.append( NMI(GT_com_t,found_com_t,allNodes=nodes_at_t))\n",
        "        NMI_baseline.append(NMI(GT_com_t,baseline_com_t,allNodes=nodes_at_t))"
      ],
      "execution_count": 0,
      "outputs": []
    },
    {
      "cell_type": "markdown",
      "metadata": {
        "id": "GNVbpPz2iW7b",
        "colab_type": "text"
      },
      "source": [
        "### Compute NMIs"
      ]
    },
    {
      "cell_type": "code",
      "metadata": {
        "id": "d3UNYjMViW7b",
        "colab_type": "code",
        "colab": {
          "base_uri": "https://localhost:8080/",
          "height": 51
        },
        "outputId": "62044f79-f870-4baf-c74e-7cfeb33a5bdb"
      },
      "source": [
        "print(\"NMI for cumulated: \",np.average(NMI_baseline))\n",
        "print(\"NMI for proposed solution: \",np.average(NMIs_found))"
      ],
      "execution_count": 15,
      "outputs": [
        {
          "output_type": "stream",
          "text": [
            "NMI for cumulated:  0.25394287121533343\n",
            "NMI for proposed solution:  0.5910295550689371\n"
          ],
          "name": "stdout"
        }
      ]
    },
    {
      "cell_type": "markdown",
      "metadata": {
        "id": "y9xsqyd9iW7f",
        "colab_type": "text"
      },
      "source": [
        "# Real Network Analysis (SocioPatterns)"
      ]
    },
    {
      "cell_type": "markdown",
      "metadata": {
        "id": "NURtKkH_iW7f",
        "colab_type": "text"
      },
      "source": [
        "### Loading the dataset\n",
        "The studied dataset is included into the tnetwork library"
      ]
    },
    {
      "cell_type": "code",
      "metadata": {
        "id": "Dnz4bIbRiW7g",
        "colab_type": "code",
        "colab": {}
      },
      "source": [
        "primary_school = tn.DynGraphSN.graph_socioPatterns_Primary_School()"
      ],
      "execution_count": 0,
      "outputs": []
    },
    {
      "cell_type": "code",
      "metadata": {
        "id": "C337kU9XiW7j",
        "colab_type": "code",
        "colab": {}
      },
      "source": [
        "classes = tn.utils.community_utils.read_socioPatterns_Primary_School_com()"
      ],
      "execution_count": 0,
      "outputs": []
    },
    {
      "cell_type": "markdown",
      "metadata": {
        "id": "f3Kv6hb8iW7l",
        "colab_type": "text"
      },
      "source": [
        "### Cleaning\n",
        "We start by removing nodes not belonging to chosen classes"
      ]
    },
    {
      "cell_type": "code",
      "metadata": {
        "id": "8Nktb3liiW7q",
        "colab_type": "code",
        "colab": {}
      },
      "source": [
        "node_activity = {k:len(p) for k,p in primary_school.node_presence().items()}\n",
        "to_remove={n for n,v in node_activity.items() if classes[n] not in {\"1B\",\"2B\",\"3B\",\"5B\"}}\n",
        "results = primary_school.apply_nx_function(nx.Graph.remove_nodes_from,nodes=to_remove)"
      ],
      "execution_count": 0,
      "outputs": []
    },
    {
      "cell_type": "markdown",
      "metadata": {
        "id": "Q3cd93CIiW7s",
        "colab_type": "text"
      },
      "source": [
        "We also defined an ordering of nodes, based on classes"
      ]
    },
    {
      "cell_type": "code",
      "metadata": {
        "id": "R4BEhTfwiW7s",
        "colab_type": "code",
        "colab": {}
      },
      "source": [
        "ordered_nodes = sorted([(n,cl) for n,cl in classes.items()],key=lambda x:x[1])\n",
        "ordered_nodes = [x[0] for x in ordered_nodes if not x[0] in to_remove]\n"
      ],
      "execution_count": 0,
      "outputs": []
    },
    {
      "cell_type": "markdown",
      "metadata": {
        "id": "ULmvkzlpiW7w",
        "colab_type": "text"
      },
      "source": [
        "We can now compute stable communities. We let the default parameters, but for the granularity limit, since 20s is \n",
        "the rate at which data are collected for this dataset. Note that in the dataset, dates of interaction is represented as timestamps,\n",
        "therefore in term of number of seconds since origin."
      ]
    },
    {
      "cell_type": "code",
      "metadata": {
        "id": "sdxMXW3piW7w",
        "colab_type": "code",
        "colab": {
          "base_uri": "https://localhost:8080/",
          "height": 204
        },
        "outputId": "1390a39c-9d9b-42ec-ac78-202e268cd091"
      },
      "source": [
        "persistant_coms_school = MSSCD(primary_school,t_granularity=20)"
      ],
      "execution_count": 20,
      "outputs": [
        {
          "output_type": "stream",
          "text": [
            "------- granularity (gamma):  38966  |  # good seeds:  0 # persistent communities found (total):  0\n",
            "------- granularity (gamma):  19483  |  # good seeds:  13 # persistent communities found (total):  0\n",
            "------- granularity (gamma):  9741  |  # good seeds:  29 # persistent communities found (total):  1\n",
            "------- granularity (gamma):  4870  |  # good seeds:  54 # persistent communities found (total):  3\n",
            "------- granularity (gamma):  2435  |  # good seeds:  96 # persistent communities found (total):  6\n",
            "------- granularity (gamma):  1217  |  # good seeds:  180 # persistent communities found (total):  8\n",
            "------- granularity (gamma):  608  |  # good seeds:  325 # persistent communities found (total):  19\n",
            "------- granularity (gamma):  304  |  # good seeds:  569 # persistent communities found (total):  31\n",
            "------- granularity (gamma):  152  |  # good seeds:  932 # persistent communities found (total):  50\n",
            "------- granularity (gamma):  76  |  # good seeds:  1419 # persistent communities found (total):  64\n",
            "------- granularity (gamma):  38  |  # good seeds:  1782 # persistent communities found (total):  93\n"
          ],
          "name": "stdout"
        }
      ]
    },
    {
      "cell_type": "markdown",
      "metadata": {
        "id": "aTT6aygeiW7y",
        "colab_type": "text"
      },
      "source": [
        "# Plotting the found communities\n",
        "### We start by plotting communities of duration more than 2 hours\n",
        "Note that unlike in the article, here, we do not filter on a single day. One can filter using the `slice` function of class `tn.DynGraphIG`. Alternatively, interactive tools allow to zoom in the figure"
      ]
    },
    {
      "cell_type": "code",
      "metadata": {
        "id": "oZRVZc79iW7z",
        "colab_type": "code",
        "colab": {
          "base_uri": "https://localhost:8080/",
          "height": 459
        },
        "outputId": "656b3c43-03f4-49cd-9f69-03ef441af2f7"
      },
      "source": [
        "com_to_plot = convert_stable_communities(persistant_coms_school,duration_min=60*60*2)\n",
        "tn.plot_longitudinal(tn.DynGraphIG(),com_to_plot,height=400,to_datetime=True,nodes=ordered_nodes)\n"
      ],
      "execution_count": 21,
      "outputs": [
        {
          "output_type": "stream",
          "text": [
            "/usr/local/lib/python3.6/dist-packages/numpy/core/numeric.py:2327: FutureWarning: elementwise comparison failed; returning scalar instead, but in the future will perform elementwise comparison\n",
            "  return bool(asarray(a1 == a2).all())\n"
          ],
          "name": "stderr"
        },
        {
          "output_type": "display_data",
          "data": {
            "image/png": "[encoded data removed]",
            "text/plain": [
              "<Figure size 800x400 with 1 Axes>"
            ]
          },
          "metadata": {
            "tags": []
          }
        }
      ]
    },
    {
      "cell_type": "markdown",
      "metadata": {
        "id": "dRQ_6FI_iW8B",
        "colab_type": "text"
      },
      "source": [
        "### Then communities of less than half an hour"
      ]
    },
    {
      "cell_type": "code",
      "metadata": {
        "id": "VuDqLUSgiW8C",
        "colab_type": "code",
        "colab": {
          "base_uri": "https://localhost:8080/",
          "height": 459
        },
        "outputId": "3c4f8f63-123b-4f66-8d11-336d394a71fb"
      },
      "source": [
        "com_to_plot = convert_stable_communities(persistant_coms_school,duration_max=60*30)\n",
        "#com_to_plot = com_to_plot.slice(1254386420,1254410770)\n",
        "tn.plot_longitudinal(tn.DynGraphIG(),com_to_plot,height=400,to_datetime=True,nodes=ordered_nodes)"
      ],
      "execution_count": 22,
      "outputs": [
        {
          "output_type": "stream",
          "text": [
            "/usr/local/lib/python3.6/dist-packages/numpy/core/numeric.py:2327: FutureWarning: elementwise comparison failed; returning scalar instead, but in the future will perform elementwise comparison\n",
            "  return bool(asarray(a1 == a2).all())\n"
          ],
          "name": "stderr"
        },
        {
          "output_type": "display_data",
          "data": {
            "image/png": "[encoded data removed]",
            "text/plain": [
              "<Figure size 800x400 with 1 Axes>"
            ]
          },
          "metadata": {
            "tags": []
          }
        }
      ]
    },
    {
      "cell_type": "markdown",
      "metadata": {
        "id": "IVWfictgiW8E",
        "colab_type": "text"
      },
      "source": [
        "### Finally, remaining communities"
      ]
    },
    {
      "cell_type": "code",
      "metadata": {
        "id": "He0LCDkEiW8F",
        "colab_type": "code",
        "colab": {
          "base_uri": "https://localhost:8080/",
          "height": 459
        },
        "outputId": "4e96218e-72af-44b1-845f-79a935f44347"
      },
      "source": [
        "com_to_plot = convert_stable_communities(persistant_coms_school,duration_min=60*30,duration_max=60*60*2)\n",
        "#com_to_plot = com_to_plot.slice(1254386420,1254410770)\n",
        "tn.plot_longitudinal(tn.DynGraphIG(),com_to_plot,height=400,to_datetime=True,nodes=ordered_nodes)"
      ],
      "execution_count": 23,
      "outputs": [
        {
          "output_type": "stream",
          "text": [
            "/usr/local/lib/python3.6/dist-packages/numpy/core/numeric.py:2327: FutureWarning: elementwise comparison failed; returning scalar instead, but in the future will perform elementwise comparison\n",
            "  return bool(asarray(a1 == a2).all())\n"
          ],
          "name": "stderr"
        },
        {
          "output_type": "display_data",
          "data": {
            "image/png": "[encoded data removed]",
            "text/plain": [
              "<Figure size 800x400 with 1 Axes>"
            ]
          },
          "metadata": {
            "tags": []
          }
        }
      ]
    },
    {
      "cell_type": "code",
      "metadata": {
        "id": "nUwWl-ijj-pE",
        "colab_type": "code",
        "colab": {}
      },
      "source": [
        ""
      ],
      "execution_count": 0,
      "outputs": []
    }
  ]
}