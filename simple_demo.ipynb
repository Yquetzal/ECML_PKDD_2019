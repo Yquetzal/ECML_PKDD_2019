{
 "cells": [
  {
   "cell_type": "markdown",
   "metadata": {},
   "source": [
    "## Demo of the contribution submitted at ECML-PKDD 2019\n",
    "This notebook allows to easily test the method introduced in the article:\n",
    "\n",
    "`Detecting Stable Communities in Link Streams at Multiple Temporal Scales`\n",
    "\n",
    "Authors: `Souâad Boudebza, Rémy Cazabet, Omar Nouali, Faiçal Azouaou`"
   ]
  },
  {
   "cell_type": "markdown",
   "metadata": {},
   "source": [
    "### `tnetwork` library installation\n",
    "The code is built on a custom library, that must be first installed using `pip`.\n",
    "If you're running this code online, you probably need to execute the command in the next cell.\n",
    "The documentation of this library can be found at: http://tnetwork.readthedocs.io/"
   ]
  },
  {
   "cell_type": "code",
   "execution_count": 17,
   "metadata": {},
   "outputs": [],
   "source": [
    "!pip install --upgrade git+https://github.com/Yquetzal/tnetwork.git"
   ]
  },
  {
   "cell_type": "markdown",
   "metadata": {},
   "source": [
    "### We can now import a set of useful libraries"
   ]
  },
  {
   "cell_type": "code",
   "execution_count": 1,
   "metadata": {},
   "outputs": [],
   "source": [
    "import tnetwork as tn\n",
    "import networkx as nx\n",
    "import numpy as np\n",
    "from bokeh.io import show, output_notebook, output_file, reset_output\n",
    "from bokeh.layouts import row\n",
    "from tnetwork.DCD.analytics.NMIs import NMI"
   ]
  },
  {
   "cell_type": "markdown",
   "metadata": {},
   "source": [
    "We finally import the methods introduced in the article. Note that their code is integrated in the tnetwork library, but also availale as stand-alones on the same git repository as this file"
   ]
  },
  {
   "cell_type": "code",
   "execution_count": 2,
   "metadata": {},
   "outputs": [],
   "source": [
    "#Stable community detection method\n",
    "from tnetwork.DCD.pure_python.community_tracker import track_communities \n",
    "#Generator\n",
    "from tnetwork.DCD.multi_temporal_scale import generate_multi_temporal_scale"
   ]
  },
  {
   "cell_type": "markdown",
   "metadata": {},
   "source": [
    "## Generate a random graph with multiple temporal scale communities\n"
   ]
  },
  {
   "cell_type": "code",
   "execution_count": 3,
   "metadata": {},
   "outputs": [],
   "source": [
    "T=1000\n",
    "N= 50\n",
    "SC=5\n",
    "#return the generated dynamic graph and the discovered communities\n",
    "generated_graph,original_coms = generate_multi_temporal_scale(nb_steps=T,nb_nodes=N,nb_com = SC)"
   ]
  },
  {
   "cell_type": "markdown",
   "metadata": {},
   "source": [
    "## Plot the communities to discover\n",
    "Each horizontal position corresponds to a node, color lines represent communities\n",
    "\n",
    "* /!\\ In the google colab notebook, one cannot open plots in new windows, so we use `output_notebook` and not `output_file`, to display the plots inline. This might slow down the notebook."
   ]
  },
  {
   "cell_type": "code",
   "execution_count": 4,
   "metadata": {},
   "outputs": [
    {
     "name": "stderr",
     "output_type": "stream",
     "text": [
      "/Users/cazabetremy/anaconda3/lib/python3.6/site-packages/numpy/core/numeric.py:2591: FutureWarning: elementwise comparison failed; returning scalar instead, but in the future will perform elementwise comparison\n",
      "  return bool(asarray(a1 == a2).all())\n"
     ]
    }
   ],
   "source": [
    "#output_file(\"ground_truth.html\") #<--- do not work in google.colab. Use instead of next line in offline notebook.\n",
    "output_notebook()\n",
    "\n",
    "#define the order in which to display nodes\n",
    "node_order=[str(x) for x in range(N)]\n",
    "#convert the communities from a format as sequence of snapshots to a format as interval graphs. Each snapshot has a duration of 1.\n",
    "communities_GT = original_coms.to_DynCommunitiesIG(sn_duration=1)\n",
    "p = tn.plot_longitudinal(tn.DynGraphIG(),communities_GT,nodes=node_order,height=400)\n",
    "show(p)"
   ]
  },
  {
   "cell_type": "markdown",
   "metadata": {},
   "source": [
    "## Detect stable communities using the proposed algorithm"
   ]
  },
  {
   "cell_type": "code",
   "execution_count": 5,
   "metadata": {},
   "outputs": [
    {
     "name": "stdout",
     "output_type": "stream",
     "text": [
      "------- granularity (gamma):  1666  |  # good seeds:  1 # persistent communities found (total):  0\n",
      "------- granularity (gamma):  833  |  # good seeds:  9 # persistent communities found (total):  0\n",
      "------- granularity (gamma):  416  |  # good seeds:  15 # persistent communities found (total):  1\n",
      "------- granularity (gamma):  208  |  # good seeds:  17 # persistent communities found (total):  1\n",
      "------- granularity (gamma):  104  |  # good seeds:  30 # persistent communities found (total):  3\n",
      "------- granularity (gamma):  52  |  # good seeds:  34 # persistent communities found (total):  5\n",
      "------- granularity (gamma):  26  |  # good seeds:  58 # persistent communities found (total):  7\n",
      "------- granularity (gamma):  13  |  # good seeds:  55 # persistent communities found (total):  7\n",
      "------- granularity (gamma):  6  |  # good seeds:  39 # persistent communities found (total):  8\n",
      "------- granularity (gamma):  3  |  # good seeds:  35 # persistent communities found (total):  9\n"
     ]
    }
   ],
   "source": [
    "#we re-state default parameters:\n",
    "theta_gamma = 1 #minimum temporal scale to consider\n",
    "theta_q = 0.7 #minimum quality\n",
    "theta_s = 0.3 #maximum similarity to be considered different\n",
    "theta_p = 3 #nb consecutive steps to be considered persistant\n",
    "\n",
    "#persistant_coms is a list of quadruplets (nodes,period,granularity,total_quality_score)\n",
    "persistant_coms = track_communities(generated_graph,t_persistance=theta_p,t_quality=theta_q,t_similarity=theta_s)"
   ]
  },
  {
   "cell_type": "markdown",
   "metadata": {},
   "source": [
    "### Plot communities found, to compare them visually\n",
    "We first convert found stable communities in the appropriate dynamic community format. We use a function allowing to filter communities, that we will use also later for real communities"
   ]
  },
  {
   "cell_type": "code",
   "execution_count": 6,
   "metadata": {},
   "outputs": [],
   "source": [
    "def convert_stable_communities(persistant_coms,nb_coms=None,duration_min=0,duration_max=10000000):\n",
    "    visu_blocks = tn.DynCommunitiesIG()\n",
    "    if nb_coms==None:\n",
    "        nb_coms = len(persistant_coms)\n",
    "    for nodes,period,current_granularity,score in persistant_coms[:nb_coms]:\n",
    "        if period.duration()>duration_min and period.duration()<duration_max:\n",
    "            #we give a unique name to each community, since colors are attributed according to community names\n",
    "            name = str(period.start()).zfill(5)+\",\"+str(nodes)+\",\"+str(current_granularity)\n",
    "            visu_blocks.add_affiliation(nodes,name,period)\n",
    "    return visu_blocks"
   ]
  },
  {
   "cell_type": "markdown",
   "metadata": {},
   "source": [
    "We can now plot found communities, using the same function as previously"
   ]
  },
  {
   "cell_type": "code",
   "execution_count": 7,
   "metadata": {},
   "outputs": [
    {
     "name": "stderr",
     "output_type": "stream",
     "text": [
      "/Users/cazabetremy/anaconda3/lib/python3.6/site-packages/numpy/core/numeric.py:2591: FutureWarning: elementwise comparison failed; returning scalar instead, but in the future will perform elementwise comparison\n",
      "  return bool(asarray(a1 == a2).all())\n"
     ]
    }
   ],
   "source": [
    "found_stable_communities = convert_stable_communities(persistant_coms)\n",
    "p = tn.plot_longitudinal(tn.DynGraphIG(),found_stable_communities,nodes=node_order,height=400)\n",
    "output_notebook() #output_file(\"found.html\")\n",
    "show(p)"
   ]
  },
  {
   "cell_type": "markdown",
   "metadata": {},
   "source": [
    "## Compute NMI at each step\n",
    "We compute the NMI between the plnated communities and: i) our communities ii) communities found by another dynamic community detection algorithm (`Tracking the evolution of communities in dynamic social networks`, `Greene et al. 2010`)"
   ]
  },
  {
   "cell_type": "code",
   "execution_count": 8,
   "metadata": {},
   "outputs": [],
   "source": [
    "#detect communities according to the other solution. We first aggregate the graph at the desired granularity\n",
    "\n",
    "#aggregate the graph at the desired granularity\n",
    "granularity = 13\n",
    "aggregated = generated_graph.aggregate_sliding_window(granularity)\n",
    "\n",
    "#compute communities\n",
    "baseline_communities = tn.DCD.iterative_match(aggregated).to_DynCommunitiesIG(sn_duration=granularity)"
   ]
  },
  {
   "cell_type": "code",
   "execution_count": 9,
   "metadata": {},
   "outputs": [],
   "source": [
    "NMIs_found = []\n",
    "NMI_baseline = []\n",
    "for t in range(T):\n",
    "    g = generated_graph.snapshots(t)\n",
    "    #get the community structure at that step\n",
    "    GT_com_t = list(communities_GT.communities(t).values())\n",
    "    \n",
    "    #we compute NMI only when there are communities \n",
    "    #(actually favorizing the baseline, that find communities even when there aren't)\n",
    "    if len(GT_com_t)>0: \n",
    "        found_com_t = list(found_stable_communities.communities(t).values())\n",
    "        baseline_com_t = list(baseline_communities.communities(t).values())\n",
    "\n",
    "        #compute NMIs\n",
    "        nodes_at_t = g.nodes\n",
    "        NMIs_found.append( NMI(GT_com_t,found_com_t,allNodes=nodes_at_t))\n",
    "        NMI_baseline.append(NMI(GT_com_t,baseline_com_t,allNodes=nodes_at_t))"
   ]
  },
  {
   "cell_type": "markdown",
   "metadata": {},
   "source": [
    "### Compute NMIs"
   ]
  },
  {
   "cell_type": "code",
   "execution_count": 10,
   "metadata": {},
   "outputs": [
    {
     "name": "stdout",
     "output_type": "stream",
     "text": [
      "NMI for cumulated:  0.148274191991196\n",
      "NMI for proposed solution:  0.22347266613350614\n"
     ]
    }
   ],
   "source": [
    "print(\"NMI for cumulated: \",np.average(NMI_baseline))\n",
    "print(\"NMI for proposed solution: \",np.average(NMIs_found))"
   ]
  },
  {
   "cell_type": "markdown",
   "metadata": {},
   "source": [
    "# Real Network Analysis (SocioPatterns)"
   ]
  },
  {
   "cell_type": "markdown",
   "metadata": {},
   "source": [
    "### Loading the dataset\n",
    "The studied dataset is included into the tnetwork library"
   ]
  },
  {
   "cell_type": "code",
   "execution_count": 11,
   "metadata": {},
   "outputs": [],
   "source": [
    "primary_school = tn.DynGraphSN.graph_socioPatterns_Primary_School()"
   ]
  },
  {
   "cell_type": "code",
   "execution_count": 12,
   "metadata": {},
   "outputs": [],
   "source": [
    "classes = tn.utils.community_utils.read_socioPatterns_Primary_School_com()"
   ]
  },
  {
   "cell_type": "markdown",
   "metadata": {},
   "source": [
    "### Cleaning\n",
    "We start by removing nodes not belonging to chosen classes"
   ]
  },
  {
   "cell_type": "code",
   "execution_count": 15,
   "metadata": {},
   "outputs": [],
   "source": [
    "node_activity = {k:len(p) for k,p in primary_school.node_presence().items()}\n",
    "to_remove={n for n,v in node_activity.items() if classes[n] not in {\"1B\",\"2B\",\"3B\",\"5B\"}}\n",
    "results = primary_school.apply_nx_function(nx.Graph.remove_nodes_from,nodes=to_remove)"
   ]
  },
  {
   "cell_type": "markdown",
   "metadata": {},
   "source": [
    "We also defined an ordering of nodes, based on classes"
   ]
  },
  {
   "cell_type": "code",
   "execution_count": 16,
   "metadata": {},
   "outputs": [],
   "source": [
    "ordered_nodes = sorted([(n,cl) for n,cl in classes.items()],key=lambda x:x[1])\n",
    "ordered_nodes = [x[0] for x in ordered_nodes if not x[0] in to_remove]\n"
   ]
  },
  {
   "cell_type": "markdown",
   "metadata": {},
   "source": [
    "We can now compute stable communities. We let the default parameters, but for the granularity limit, since 20s is \n",
    "the rate at which data are collected for this dataset. Note that in the dataset, dates of interaction is represented as timestamps,\n",
    "therefore in term of number of seconds since origin."
   ]
  },
  {
   "cell_type": "code",
   "execution_count": 18,
   "metadata": {},
   "outputs": [
    {
     "name": "stdout",
     "output_type": "stream",
     "text": [
      "------- granularity (gamma):  38966  |  # good seeds:  8 # persistent communities found (total):  0\n",
      "------- granularity (gamma):  19483  |  # good seeds:  22 # persistent communities found (total):  0\n",
      "------- granularity (gamma):  9741  |  # good seeds:  46 # persistent communities found (total):  8\n",
      "------- granularity (gamma):  4870  |  # good seeds:  92 # persistent communities found (total):  10\n",
      "------- granularity (gamma):  2435  |  # good seeds:  169 # persistent communities found (total):  15\n",
      "------- granularity (gamma):  1217  |  # good seeds:  313 # persistent communities found (total):  33\n",
      "------- granularity (gamma):  608  |  # good seeds:  489 # persistent communities found (total):  43\n",
      "------- granularity (gamma):  304  |  # good seeds:  740 # persistent communities found (total):  61\n",
      "------- granularity (gamma):  152  |  # good seeds:  1016 # persistent communities found (total):  75\n",
      "------- granularity (gamma):  76  |  # good seeds:  1447 # persistent communities found (total):  101\n",
      "------- granularity (gamma):  38  |  # good seeds:  1785 # persistent communities found (total):  120\n"
     ]
    }
   ],
   "source": [
    "persistant_coms_school = track_communities(primary_school,t_granularity=20)"
   ]
  },
  {
   "cell_type": "markdown",
   "metadata": {},
   "source": [
    "# Plotting the found communities\n",
    "### We start by plotting communities of duration more than 2 hours\n",
    "Note that unlike in the article, here, we do not filter on a single day. One can filter using the `slice` function of class `tn.DynGraphIG`. Alternatively, interactive tools allow to zoom in the figure"
   ]
  },
  {
   "cell_type": "code",
   "execution_count": 20,
   "metadata": {},
   "outputs": [
    {
     "name": "stderr",
     "output_type": "stream",
     "text": [
      "/Users/cazabetremy/anaconda3/lib/python3.6/site-packages/numpy/core/numeric.py:2591: FutureWarning: elementwise comparison failed; returning scalar instead, but in the future will perform elementwise comparison\n",
      "  return bool(asarray(a1 == a2).all())\n"
     ]
    }
   ],
   "source": [
    "com_to_plot = convert_stable_communities(persistant_coms_school,duration_min=60*60*2)\n",
    "p = tn.plot_longitudinal(tn.DynGraphIG(),com_to_plot,height=400,to_datetime=True,nodes=ordered_nodes)\n",
    "output_notebook() #output_file(\"found_large.html\")\n",
    "show(p)"
   ]
  },
  {
   "cell_type": "markdown",
   "metadata": {},
   "source": [
    "### Then communities of less than half an hour"
   ]
  },
  {
   "cell_type": "code",
   "execution_count": 22,
   "metadata": {},
   "outputs": [
    {
     "name": "stderr",
     "output_type": "stream",
     "text": [
      "/Users/cazabetremy/anaconda3/lib/python3.6/site-packages/numpy/core/numeric.py:2591: FutureWarning: elementwise comparison failed; returning scalar instead, but in the future will perform elementwise comparison\n",
      "  return bool(asarray(a1 == a2).all())\n"
     ]
    }
   ],
   "source": [
    "com_to_plot = convert_stable_communities(persistant_coms_school,duration_max=60*30)\n",
    "#com_to_plot = com_to_plot.slice(1254386420,1254410770)\n",
    "p = tn.plot_longitudinal(tn.DynGraphIG(),com_to_plot,height=400,to_datetime=True,nodes=ordered_nodes)\n",
    "output_notebook() #output_file(\"small.html\")\n",
    "show(p)"
   ]
  },
  {
   "cell_type": "markdown",
   "metadata": {},
   "source": [
    "### Finally, remaining communities"
   ]
  },
  {
   "cell_type": "code",
   "execution_count": 23,
   "metadata": {},
   "outputs": [
    {
     "name": "stderr",
     "output_type": "stream",
     "text": [
      "/Users/cazabetremy/anaconda3/lib/python3.6/site-packages/numpy/core/numeric.py:2591: FutureWarning: elementwise comparison failed; returning scalar instead, but in the future will perform elementwise comparison\n",
      "  return bool(asarray(a1 == a2).all())\n"
     ]
    }
   ],
   "source": [
    "com_to_plot = convert_stable_communities(persistant_coms_school,duration_min=60*30,duration_max=60*60*2)\n",
    "#com_to_plot = com_to_plot.slice(1254386420,1254410770)\n",
    "p = tn.plot_longitudinal(tn.DynGraphIG(),com_to_plot,height=400,to_datetime=True,nodes=ordered_nodes)\n",
    "output_notebook() #output_file(\"medium.html\")\n",
    "show(p)"
   ]
  }
 ],
 "metadata": {
  "kernelspec": {
   "display_name": "Python 3",
   "language": "python",
   "name": "python3"
  },
  "language_info": {
   "codemirror_mode": {
    "name": "ipython",
    "version": 3
   },
   "file_extension": ".py",
   "mimetype": "text/x-python",
   "name": "python",
   "nbconvert_exporter": "python",
   "pygments_lexer": "ipython3",
   "version": "3.6.3"
  }
 },
 "nbformat": 4,
 "nbformat_minor": 2
}
