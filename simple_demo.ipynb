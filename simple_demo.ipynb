{
  "nbformat": 4,
  "nbformat_minor": 0,
  "metadata": {
    "kernelspec": {
      "display_name": "Python 3",
      "language": "python",
      "name": "python3"
    },
    "language_info": {
      "codemirror_mode": {
        "name": "ipython",
        "version": 3
      },
      "file_extension": ".py",
      "mimetype": "text/x-python",
      "name": "python",
      "nbconvert_exporter": "python",
      "pygments_lexer": "ipython3",
      "version": "3.6.3"
    },
    "colab": {
      "name": "Copy of simple_demo.ipynb",
      "provenance": []
    }
  },
  "cells": [
    {
      "cell_type": "markdown",
      "metadata": {
        "id": "b8bnWPOQiW6L"
      },
      "source": [
        "## Demo of the contribution submitted at LEG workshop at ECML-PKDD 2019\n",
        "This notebook allows to easily test the method introduced in the article:\n",
        "\n",
        "`Detecting Stable Communities in Link Streams at Multiple Temporal Scales`\n",
        "\n",
        "Authors: `Souâad Boudebza, Rémy Cazabet, Omar Nouali, Faiçal Azouaou`"
      ]
    },
    {
      "cell_type": "markdown",
      "metadata": {
        "id": "mJQ9NXmsiW6R"
      },
      "source": [
        "### `tnetwork` library installation\n",
        "The code is built on a custom library, that must be first installed using `pip`.\n",
        "If you're running this code online, you probably need to execute the command in the next cell.\n",
        "The documentation of this library can be found at: http://tnetwork.readthedocs.io/"
      ]
    },
    {
      "cell_type": "code",
      "metadata": {
        "id": "B_O1m7t4iW6T",
        "colab": {
          "base_uri": "https://localhost:8080/"
        },
        "outputId": "b052c40b-07b2-408d-a400-aec98e0f99b0"
      },
      "source": [
        "!pip install --upgrade git+https://github.com/Yquetzal/tnetwork.git"
      ],
      "execution_count": 1,
      "outputs": [
        {
          "output_type": "stream",
          "name": "stdout",
          "text": [
            "Collecting git+https://github.com/Yquetzal/tnetwork.git\n",
            "  Cloning https://github.com/Yquetzal/tnetwork.git to /tmp/pip-req-build-avpacxvn\n",
            "  Running command git clone -q https://github.com/Yquetzal/tnetwork.git /tmp/pip-req-build-avpacxvn\n",
            "Requirement already satisfied: numpy in /usr/local/lib/python3.7/dist-packages (from tnetwork==1.1) (1.21.5)\n",
            "Requirement already satisfied: matplotlib in /usr/local/lib/python3.7/dist-packages (from tnetwork==1.1) (3.2.2)\n",
            "Requirement already satisfied: scikit-learn in /usr/local/lib/python3.7/dist-packages (from tnetwork==1.1) (1.0.2)\n",
            "Requirement already satisfied: networkx>=2.4 in /usr/local/lib/python3.7/dist-packages (from tnetwork==1.1) (2.6.3)\n",
            "Requirement already satisfied: pandas in /usr/local/lib/python3.7/dist-packages (from tnetwork==1.1) (1.3.5)\n",
            "Requirement already satisfied: bokeh in /usr/local/lib/python3.7/dist-packages (from tnetwork==1.1) (2.3.3)\n",
            "Requirement already satisfied: progressbar2 in /usr/local/lib/python3.7/dist-packages (from tnetwork==1.1) (3.38.0)\n",
            "Collecting bidict\n",
            "  Downloading bidict-0.21.4-py3-none-any.whl (36 kB)\n",
            "Collecting sphinx_rtd_theme>=0.3.1\n",
            "  Downloading sphinx_rtd_theme-1.0.0-py2.py3-none-any.whl (2.8 MB)\n",
            "\u001b[K     |████████████████████████████████| 2.8 MB 8.3 MB/s \n",
            "\u001b[?25hCollecting nbsphinx\n",
            "  Downloading nbsphinx-0.8.8-py3-none-any.whl (25 kB)\n",
            "Requirement already satisfied: sortedcontainers in /usr/local/lib/python3.7/dist-packages (from tnetwork==1.1) (2.4.0)\n",
            "Requirement already satisfied: sphinx>=1.6 in /usr/local/lib/python3.7/dist-packages (from sphinx_rtd_theme>=0.3.1->tnetwork==1.1) (1.8.6)\n",
            "Requirement already satisfied: docutils<0.18 in /usr/local/lib/python3.7/dist-packages (from sphinx_rtd_theme>=0.3.1->tnetwork==1.1) (0.17.1)\n",
            "Requirement already satisfied: packaging in /usr/local/lib/python3.7/dist-packages (from sphinx>=1.6->sphinx_rtd_theme>=0.3.1->tnetwork==1.1) (21.3)\n",
            "Requirement already satisfied: babel!=2.0,>=1.3 in /usr/local/lib/python3.7/dist-packages (from sphinx>=1.6->sphinx_rtd_theme>=0.3.1->tnetwork==1.1) (2.9.1)\n",
            "Requirement already satisfied: six>=1.5 in /usr/local/lib/python3.7/dist-packages (from sphinx>=1.6->sphinx_rtd_theme>=0.3.1->tnetwork==1.1) (1.15.0)\n",
            "Requirement already satisfied: snowballstemmer>=1.1 in /usr/local/lib/python3.7/dist-packages (from sphinx>=1.6->sphinx_rtd_theme>=0.3.1->tnetwork==1.1) (2.2.0)\n",
            "Requirement already satisfied: Pygments>=2.0 in /usr/local/lib/python3.7/dist-packages (from sphinx>=1.6->sphinx_rtd_theme>=0.3.1->tnetwork==1.1) (2.6.1)\n",
            "Requirement already satisfied: alabaster<0.8,>=0.7 in /usr/local/lib/python3.7/dist-packages (from sphinx>=1.6->sphinx_rtd_theme>=0.3.1->tnetwork==1.1) (0.7.12)\n",
            "Requirement already satisfied: Jinja2>=2.3 in /usr/local/lib/python3.7/dist-packages (from sphinx>=1.6->sphinx_rtd_theme>=0.3.1->tnetwork==1.1) (2.11.3)\n",
            "Requirement already satisfied: sphinxcontrib-websupport in /usr/local/lib/python3.7/dist-packages (from sphinx>=1.6->sphinx_rtd_theme>=0.3.1->tnetwork==1.1) (1.2.4)\n",
            "Requirement already satisfied: requests>=2.0.0 in /usr/local/lib/python3.7/dist-packages (from sphinx>=1.6->sphinx_rtd_theme>=0.3.1->tnetwork==1.1) (2.23.0)\n",
            "Requirement already satisfied: setuptools in /usr/local/lib/python3.7/dist-packages (from sphinx>=1.6->sphinx_rtd_theme>=0.3.1->tnetwork==1.1) (57.4.0)\n",
            "Requirement already satisfied: imagesize in /usr/local/lib/python3.7/dist-packages (from sphinx>=1.6->sphinx_rtd_theme>=0.3.1->tnetwork==1.1) (1.3.0)\n",
            "Requirement already satisfied: pytz>=2015.7 in /usr/local/lib/python3.7/dist-packages (from babel!=2.0,>=1.3->sphinx>=1.6->sphinx_rtd_theme>=0.3.1->tnetwork==1.1) (2018.9)\n",
            "Requirement already satisfied: MarkupSafe>=0.23 in /usr/local/lib/python3.7/dist-packages (from Jinja2>=2.3->sphinx>=1.6->sphinx_rtd_theme>=0.3.1->tnetwork==1.1) (2.0.1)\n",
            "Requirement already satisfied: idna<3,>=2.5 in /usr/local/lib/python3.7/dist-packages (from requests>=2.0.0->sphinx>=1.6->sphinx_rtd_theme>=0.3.1->tnetwork==1.1) (2.10)\n",
            "Requirement already satisfied: urllib3!=1.25.0,!=1.25.1,<1.26,>=1.21.1 in /usr/local/lib/python3.7/dist-packages (from requests>=2.0.0->sphinx>=1.6->sphinx_rtd_theme>=0.3.1->tnetwork==1.1) (1.24.3)\n",
            "Requirement already satisfied: chardet<4,>=3.0.2 in /usr/local/lib/python3.7/dist-packages (from requests>=2.0.0->sphinx>=1.6->sphinx_rtd_theme>=0.3.1->tnetwork==1.1) (3.0.4)\n",
            "Requirement already satisfied: certifi>=2017.4.17 in /usr/local/lib/python3.7/dist-packages (from requests>=2.0.0->sphinx>=1.6->sphinx_rtd_theme>=0.3.1->tnetwork==1.1) (2021.10.8)\n",
            "Requirement already satisfied: pillow>=7.1.0 in /usr/local/lib/python3.7/dist-packages (from bokeh->tnetwork==1.1) (7.1.2)\n",
            "Requirement already satisfied: PyYAML>=3.10 in /usr/local/lib/python3.7/dist-packages (from bokeh->tnetwork==1.1) (3.13)\n",
            "Requirement already satisfied: python-dateutil>=2.1 in /usr/local/lib/python3.7/dist-packages (from bokeh->tnetwork==1.1) (2.8.2)\n",
            "Requirement already satisfied: typing-extensions>=3.7.4 in /usr/local/lib/python3.7/dist-packages (from bokeh->tnetwork==1.1) (3.10.0.2)\n",
            "Requirement already satisfied: tornado>=5.1 in /usr/local/lib/python3.7/dist-packages (from bokeh->tnetwork==1.1) (5.1.1)\n",
            "Requirement already satisfied: pyparsing!=3.0.5,>=2.0.2 in /usr/local/lib/python3.7/dist-packages (from packaging->sphinx>=1.6->sphinx_rtd_theme>=0.3.1->tnetwork==1.1) (3.0.7)\n",
            "Requirement already satisfied: cycler>=0.10 in /usr/local/lib/python3.7/dist-packages (from matplotlib->tnetwork==1.1) (0.11.0)\n",
            "Requirement already satisfied: kiwisolver>=1.0.1 in /usr/local/lib/python3.7/dist-packages (from matplotlib->tnetwork==1.1) (1.3.2)\n",
            "Requirement already satisfied: nbconvert!=5.4 in /usr/local/lib/python3.7/dist-packages (from nbsphinx->tnetwork==1.1) (5.6.1)\n",
            "Requirement already satisfied: nbformat in /usr/local/lib/python3.7/dist-packages (from nbsphinx->tnetwork==1.1) (5.1.3)\n",
            "Requirement already satisfied: traitlets in /usr/local/lib/python3.7/dist-packages (from nbsphinx->tnetwork==1.1) (5.1.1)\n",
            "Requirement already satisfied: pandocfilters>=1.4.1 in /usr/local/lib/python3.7/dist-packages (from nbconvert!=5.4->nbsphinx->tnetwork==1.1) (1.5.0)\n",
            "Requirement already satisfied: mistune<2,>=0.8.1 in /usr/local/lib/python3.7/dist-packages (from nbconvert!=5.4->nbsphinx->tnetwork==1.1) (0.8.4)\n",
            "Requirement already satisfied: testpath in /usr/local/lib/python3.7/dist-packages (from nbconvert!=5.4->nbsphinx->tnetwork==1.1) (0.6.0)\n",
            "Requirement already satisfied: defusedxml in /usr/local/lib/python3.7/dist-packages (from nbconvert!=5.4->nbsphinx->tnetwork==1.1) (0.7.1)\n",
            "Requirement already satisfied: entrypoints>=0.2.2 in /usr/local/lib/python3.7/dist-packages (from nbconvert!=5.4->nbsphinx->tnetwork==1.1) (0.4)\n",
            "Requirement already satisfied: jupyter-core in /usr/local/lib/python3.7/dist-packages (from nbconvert!=5.4->nbsphinx->tnetwork==1.1) (4.9.2)\n",
            "Requirement already satisfied: bleach in /usr/local/lib/python3.7/dist-packages (from nbconvert!=5.4->nbsphinx->tnetwork==1.1) (4.1.0)\n",
            "Requirement already satisfied: jsonschema!=2.5.0,>=2.4 in /usr/local/lib/python3.7/dist-packages (from nbformat->nbsphinx->tnetwork==1.1) (4.3.3)\n",
            "Requirement already satisfied: ipython-genutils in /usr/local/lib/python3.7/dist-packages (from nbformat->nbsphinx->tnetwork==1.1) (0.2.0)\n",
            "Requirement already satisfied: importlib-resources>=1.4.0 in /usr/local/lib/python3.7/dist-packages (from jsonschema!=2.5.0,>=2.4->nbformat->nbsphinx->tnetwork==1.1) (5.4.0)\n",
            "Requirement already satisfied: importlib-metadata in /usr/local/lib/python3.7/dist-packages (from jsonschema!=2.5.0,>=2.4->nbformat->nbsphinx->tnetwork==1.1) (4.11.2)\n",
            "Requirement already satisfied: attrs>=17.4.0 in /usr/local/lib/python3.7/dist-packages (from jsonschema!=2.5.0,>=2.4->nbformat->nbsphinx->tnetwork==1.1) (21.4.0)\n",
            "Requirement already satisfied: pyrsistent!=0.17.0,!=0.17.1,!=0.17.2,>=0.14.0 in /usr/local/lib/python3.7/dist-packages (from jsonschema!=2.5.0,>=2.4->nbformat->nbsphinx->tnetwork==1.1) (0.18.1)\n",
            "Requirement already satisfied: zipp>=3.1.0 in /usr/local/lib/python3.7/dist-packages (from importlib-resources>=1.4.0->jsonschema!=2.5.0,>=2.4->nbformat->nbsphinx->tnetwork==1.1) (3.7.0)\n",
            "Requirement already satisfied: webencodings in /usr/local/lib/python3.7/dist-packages (from bleach->nbconvert!=5.4->nbsphinx->tnetwork==1.1) (0.5.1)\n",
            "Requirement already satisfied: python-utils>=2.3.0 in /usr/local/lib/python3.7/dist-packages (from progressbar2->tnetwork==1.1) (3.1.0)\n",
            "Requirement already satisfied: scipy>=1.1.0 in /usr/local/lib/python3.7/dist-packages (from scikit-learn->tnetwork==1.1) (1.4.1)\n",
            "Requirement already satisfied: joblib>=0.11 in /usr/local/lib/python3.7/dist-packages (from scikit-learn->tnetwork==1.1) (1.1.0)\n",
            "Requirement already satisfied: threadpoolctl>=2.0.0 in /usr/local/lib/python3.7/dist-packages (from scikit-learn->tnetwork==1.1) (3.1.0)\n",
            "Requirement already satisfied: sphinxcontrib-serializinghtml in /usr/local/lib/python3.7/dist-packages (from sphinxcontrib-websupport->sphinx>=1.6->sphinx_rtd_theme>=0.3.1->tnetwork==1.1) (1.1.5)\n",
            "Building wheels for collected packages: tnetwork\n",
            "  Building wheel for tnetwork (setup.py) ... \u001b[?25l\u001b[?25hdone\n",
            "  Created wheel for tnetwork: filename=tnetwork-1.1-py3-none-any.whl size=53297195 sha256=4b7dbb7e81154b103f72a9f5df199ecae533faa9f7c4b8ecc30e08e23ff7a2a0\n",
            "  Stored in directory: /tmp/pip-ephem-wheel-cache-yr0sx51y/wheels/93/6b/b2/b4fc19dbf6f472bd272d78185b279e4becead8111b53934f8a\n",
            "Successfully built tnetwork\n",
            "Installing collected packages: sphinx-rtd-theme, nbsphinx, bidict, tnetwork\n",
            "Successfully installed bidict-0.21.4 nbsphinx-0.8.8 sphinx-rtd-theme-1.0.0 tnetwork-1.1\n"
          ]
        }
      ]
    },
    {
      "cell_type": "markdown",
      "metadata": {
        "id": "VE1MMIhkiW6e"
      },
      "source": [
        "### We can now import a set of useful libraries"
      ]
    },
    {
      "cell_type": "code",
      "metadata": {
        "id": "Pz3U1fUfiW6g"
      },
      "source": [
        "import tnetwork as tn\n",
        "import networkx as nx\n",
        "import numpy as np\n",
        "from bokeh.io import show, output_notebook, output_file, reset_output\n",
        "from bokeh.layouts import row\n",
        "from tnetwork.DCD.analytics.NMIs import NMI"
      ],
      "execution_count": 2,
      "outputs": []
    },
    {
      "cell_type": "markdown",
      "metadata": {
        "id": "3h-NGPn1iW6p"
      },
      "source": [
        "We finally import the methods introduced in the article. Note that their code is integrated in the tnetwork library, but also availale as stand-alones on the same git repository as this file"
      ]
    },
    {
      "cell_type": "code",
      "metadata": {
        "id": "ECUYIUggiW6r"
      },
      "source": [
        "# Our proposed method: Multiple Temporal Scale Stable Community Detection method\n",
        "from tnetwork.DCD import MSSCD  \n",
        "#Generator\n",
        "from tnetwork.DCD.multi_temporal_scale import generate_multi_temporal_scale"
      ],
      "execution_count": 3,
      "outputs": []
    },
    {
      "cell_type": "markdown",
      "metadata": {
        "id": "JEQiz5sBiW6w"
      },
      "source": [
        "## Generate a random graph with multiple temporal scale communities\n"
      ]
    },
    {
      "cell_type": "code",
      "metadata": {
        "id": "y32GZhCQiW6z"
      },
      "source": [
        "T=1000\n",
        "N= 50\n",
        "SC=5\n",
        "#return the generated dynamic graph and the discovered communities\n",
        "generated_graph,original_coms = generate_multi_temporal_scale(nb_steps=T,nb_nodes=N,nb_com = SC)"
      ],
      "execution_count": 4,
      "outputs": []
    },
    {
      "cell_type": "code",
      "source": [
        ""
      ],
      "metadata": {
        "id": "O4PoQr6tloFk"
      },
      "execution_count": 7,
      "outputs": []
    },
    {
      "cell_type": "markdown",
      "metadata": {
        "id": "sp4NYm7BiW67"
      },
      "source": [
        "## Plot the communities to discover\n",
        "Each horizontal position corresponds to a node, color lines represent communities\n",
        "\n",
        "* /!\\ In the google colab notebook, one cannot open plots in new windows, so we use `output_notebook` and not `output_file`, to display the plots inline. This might slow down the notebook."
      ]
    },
    {
      "cell_type": "code",
      "metadata": {
        "id": "AscsidaHiW69",
        "colab": {
          "base_uri": "https://localhost:8080/",
          "height": 761
        },
        "outputId": "d8f9f6dc-f5cc-46a8-aaf6-87469c779256"
      },
      "source": [
        "\n",
        "#define the order in which to display nodes\n",
        "node_order=[str(x) for x in range(N)]\n",
        "tn.plot_longitudinal(tn.DynGraphSN(),original_coms,nodes=node_order,height=400)\n"
      ],
      "execution_count": 8,
      "outputs": [
        {
          "output_type": "stream",
          "name": "stderr",
          "text": [
            "/usr/local/lib/python3.7/dist-packages/numpy/core/numeric.py:2446: FutureWarning: elementwise comparison failed; returning scalar instead, but in the future will perform elementwise comparison\n",
            "  return bool(asarray(a1 == a2).all())\n"
          ]
        },
        {
          "output_type": "execute_result",
          "data": {
            "text/plain": [
              "<Figure size 800x400 with 1 Axes>"
            ],
            "image/png": "[encoded data removed]"
          },
          "metadata": {},
          "execution_count": 8
        },
        {
          "output_type": "display_data",
          "data": {
            "text/plain": [
              "<Figure size 800x400 with 1 Axes>"
            ],
            "image/png": "[encoded data removed]"
          },
          "metadata": {
            "needs_background": "light"
          }
        }
      ]
    },
    {
      "cell_type": "markdown",
      "metadata": {
        "id": "wX2xo6UCiW7C"
      },
      "source": [
        "## Detect stable communities using the proposed algorithm"
      ]
    },
    {
      "cell_type": "code",
      "metadata": {
        "id": "t65hPJ5ciW7E",
        "colab": {
          "base_uri": "https://localhost:8080/"
        },
        "outputId": "2a34cda9-b64a-487a-dd94-099acb42365c"
      },
      "source": [
        "#we re-state default parameters:\n",
        "theta_gamma = 1 #minimum temporal scale to consider\n",
        "theta_q = 0.7 #minimum quality\n",
        "theta_s = 0.3 #maximum similarity to be considered different\n",
        "theta_p = 3 #nb consecutive steps to be considered persistant\n",
        "\n",
        "persistant_coms = MSSCD(generated_graph,t_persistance=theta_p,t_quality=theta_q,t_similarity=theta_s)"
      ],
      "execution_count": 9,
      "outputs": [
        {
          "output_type": "stream",
          "name": "stderr",
          "text": [
            "\r                                                                               \r\rN/A% (0 of 3) |                          | Elapsed Time: 0:00:00 ETA:  --:--:--"
          ]
        },
        {
          "output_type": "stream",
          "name": "stdout",
          "text": [
            "starting no_smoothing\n",
            "------- granularity (gamma):  333  |  # good seeds:  0 # persistent communities found (total):  0\n"
          ]
        },
        {
          "output_type": "stream",
          "name": "stderr",
          "text": [
            "\r                                                                               \r\rN/A% (0 of 7) |                          | Elapsed Time: 0:00:00 ETA:  --:--:--"
          ]
        },
        {
          "output_type": "stream",
          "name": "stdout",
          "text": [
            "starting no_smoothing\n",
            "------- granularity (gamma):  166  |  # good seeds:  5 # persistent communities found (total):  0\n"
          ]
        },
        {
          "output_type": "stream",
          "name": "stderr",
          "text": [
            "\r                                                                               \r\rN/A% (0 of 13) |                         | Elapsed Time: 0:00:00 ETA:  --:--:--"
          ]
        },
        {
          "output_type": "stream",
          "name": "stdout",
          "text": [
            "starting no_smoothing\n"
          ]
        },
        {
          "output_type": "stream",
          "name": "stderr",
          "text": [
            "\r                                                                               \r\r 53% (7 of 13) |#############            | Elapsed Time: 0:00:00 ETA:  00:00:00"
          ]
        },
        {
          "output_type": "stream",
          "name": "stdout",
          "text": [
            "------- granularity (gamma):  83  |  # good seeds:  5 # persistent communities found (total):  0\n"
          ]
        },
        {
          "output_type": "stream",
          "name": "stderr",
          "text": [
            "\r                                                                               \r\rN/A% (0 of 25) |                         | Elapsed Time: 0:00:00 ETA:  --:--:--"
          ]
        },
        {
          "output_type": "stream",
          "name": "stdout",
          "text": [
            "starting no_smoothing\n"
          ]
        },
        {
          "output_type": "stream",
          "name": "stderr",
          "text": [
            " 84% (21 of 25) |####################    | Elapsed Time: 0:00:00 ETA:   0:00:00"
          ]
        },
        {
          "output_type": "stream",
          "name": "stdout",
          "text": [
            "------- granularity (gamma):  41  |  # good seeds:  7 # persistent communities found (total):  2\n"
          ]
        },
        {
          "output_type": "stream",
          "name": "stderr",
          "text": [
            "\r                                                                               \r\rN/A% (0 of 50) |                         | Elapsed Time: 0:00:00 ETA:  --:--:--"
          ]
        },
        {
          "output_type": "stream",
          "name": "stdout",
          "text": [
            "starting no_smoothing\n"
          ]
        },
        {
          "output_type": "stream",
          "name": "stderr",
          "text": [
            "N/A% (0 of 100) |                        | Elapsed Time: 0:00:00 ETA:  --:--:--"
          ]
        },
        {
          "output_type": "stream",
          "name": "stdout",
          "text": [
            "------- granularity (gamma):  20  |  # good seeds:  21 # persistent communities found (total):  3\n",
            "starting no_smoothing\n"
          ]
        },
        {
          "output_type": "stream",
          "name": "stderr",
          "text": [
            "N/A% (0 of 200) |                        | Elapsed Time: 0:00:00 ETA:  --:--:--"
          ]
        },
        {
          "output_type": "stream",
          "name": "stdout",
          "text": [
            "------- granularity (gamma):  10  |  # good seeds:  27 # persistent communities found (total):  4\n",
            "starting no_smoothing\n"
          ]
        },
        {
          "output_type": "stream",
          "name": "stderr",
          "text": [
            " 94% (188 of 200) |####################  | Elapsed Time: 0:00:00 ETA:   0:00:00"
          ]
        },
        {
          "output_type": "stream",
          "name": "stdout",
          "text": [
            "------- granularity (gamma):  5  |  # good seeds:  40 # persistent communities found (total):  4\n"
          ]
        },
        {
          "output_type": "stream",
          "name": "stderr",
          "text": [
            "\r                                                                               \r\rN/A% (0 of 500) |                        | Elapsed Time: 0:00:00 ETA:  --:--:--"
          ]
        },
        {
          "output_type": "stream",
          "name": "stdout",
          "text": [
            "starting no_smoothing\n"
          ]
        },
        {
          "output_type": "stream",
          "name": "stderr",
          "text": [
            "100% (500 of 500) |######################| Elapsed Time: 0:00:01 ETA:  00:00:00"
          ]
        },
        {
          "output_type": "stream",
          "name": "stdout",
          "text": [
            "------- granularity (gamma):  2  |  # good seeds:  50 # persistent communities found (total):  4\n"
          ]
        }
      ]
    },
    {
      "cell_type": "markdown",
      "metadata": {
        "id": "LTvwP7huiW7Q"
      },
      "source": [
        "We can now plot found communities, using the same function as previously"
      ]
    },
    {
      "cell_type": "code",
      "metadata": {
        "id": "pG5nSadyiW7R",
        "colab": {
          "base_uri": "https://localhost:8080/",
          "height": 761
        },
        "outputId": "69d3d7e5-c29f-4704-b057-762a37dc4e99"
      },
      "source": [
        "found_stable_communities = persistant_coms\n",
        "tn.plot_longitudinal(tn.DynGraphIG(),found_stable_communities,nodes=node_order,height=400)\n"
      ],
      "execution_count": 10,
      "outputs": [
        {
          "output_type": "stream",
          "name": "stderr",
          "text": [
            "/usr/local/lib/python3.7/dist-packages/numpy/core/numeric.py:2446: FutureWarning: elementwise comparison failed; returning scalar instead, but in the future will perform elementwise comparison\n",
            "  return bool(asarray(a1 == a2).all())\n"
          ]
        },
        {
          "output_type": "execute_result",
          "data": {
            "text/plain": [
              "<Figure size 800x400 with 1 Axes>"
            ],
            "image/png": "[encoded data removed]"
          },
          "metadata": {},
          "execution_count": 10
        },
        {
          "output_type": "display_data",
          "data": {
            "text/plain": [
              "<Figure size 800x400 with 1 Axes>"
            ],
            "image/png": "[encoded data removed]"
          },
          "metadata": {
            "needs_background": "light"
          }
        }
      ]
    },
    {
      "cell_type": "markdown",
      "metadata": {
        "id": "asu29saUiW7V"
      },
      "source": [
        "## Compute NMI at each step\n",
        "We compute the NMI between the plnated communities and: i) our communities ii) communities found by another dynamic community detection algorithm (`Tracking the evolution of communities in dynamic social networks`, `Greene et al. 2010`)"
      ]
    },
    {
      "cell_type": "code",
      "metadata": {
        "id": "_RfrMJPwiW7W",
        "colab": {
          "base_uri": "https://localhost:8080/"
        },
        "outputId": "f6e07559-42ac-465a-984d-56466d440ded"
      },
      "source": [
        "#detect communities according to the other solution. We first aggregate the graph at the desired granularity\n",
        "\n",
        "#aggregate the graph at the desired granularity\n",
        "granularity = 13\n",
        "aggregated = generated_graph.aggregate_sliding_window(granularity)\n",
        "\n",
        "#compute communities\n",
        "baseline_communities = tn.DCD.iterative_match(aggregated).to_DynCommunitiesIG(sn_duration=granularity)"
      ],
      "execution_count": 11,
      "outputs": [
        {
          "output_type": "stream",
          "name": "stderr",
          "text": [
            "\r                                                                               \r\rN/A% (0 of 77) |                         | Elapsed Time: 0:00:00 ETA:  --:--:--"
          ]
        },
        {
          "output_type": "stream",
          "name": "stdout",
          "text": [
            "starting no_smoothing\n"
          ]
        },
        {
          "output_type": "stream",
          "name": "stderr",
          "text": [
            " 96% (74 of 77) |####################### | Elapsed Time: 0:00:00 ETA:   0:00:00"
          ]
        }
      ]
    },
    {
      "cell_type": "code",
      "source": [
        ""
      ],
      "metadata": {
        "id": "czAAz--xqD02"
      },
      "execution_count": 29,
      "outputs": []
    },
    {
      "cell_type": "code",
      "metadata": {
        "id": "2XaGXEuJiW7Z"
      },
      "source": [
        "NMIs_found = []\n",
        "NMI_baseline = []\n",
        "for t in range(T):\n",
        "    g = generated_graph.snapshots(t)\n",
        "    #get the community structure at that step\n",
        "    if t in original_coms.snapshot_communities():\n",
        "      GT_com_t = list(original_coms.communities(t).values())\n",
        "    else:\n",
        "      GT_com_t={}\n",
        "    \n",
        "    #we compute NMI only when there are communities \n",
        "    #(actually favorizing the baseline, that find communities even when there aren't)\n",
        "    if len(GT_com_t)>0: \n",
        "        found_com_t = list(found_stable_communities.communities(t).values())\n",
        "        baseline_com_t = list(baseline_communities.communities(t).values())\n",
        "\n",
        "        #compute NMIs\n",
        "        nodes_at_t = g.nodes\n",
        "        NMIs_found.append( NMI(GT_com_t,found_com_t,allNodes=nodes_at_t))\n",
        "        NMI_baseline.append(NMI(GT_com_t,baseline_com_t,allNodes=nodes_at_t))"
      ],
      "execution_count": 29,
      "outputs": []
    },
    {
      "cell_type": "markdown",
      "metadata": {
        "id": "GNVbpPz2iW7b"
      },
      "source": [
        "### Compute NMIs"
      ]
    },
    {
      "cell_type": "code",
      "metadata": {
        "id": "d3UNYjMViW7b",
        "colab": {
          "base_uri": "https://localhost:8080/"
        },
        "outputId": "10bb9cc4-e1c7-4296-9a84-e7d0bb4d4933"
      },
      "source": [
        "print(\"NMI for cumulated: \",np.average(NMI_baseline))\n",
        "print(\"NMI for proposed solution: \",np.average(NMIs_found))"
      ],
      "execution_count": 30,
      "outputs": [
        {
          "output_type": "stream",
          "name": "stdout",
          "text": [
            "NMI for cumulated:  0.2331474357449678\n",
            "NMI for proposed solution:  0.31589447936071047\n"
          ]
        }
      ]
    },
    {
      "cell_type": "markdown",
      "metadata": {
        "id": "y9xsqyd9iW7f"
      },
      "source": [
        "# Real Network Analysis (SocioPatterns)"
      ]
    },
    {
      "cell_type": "markdown",
      "metadata": {
        "id": "NURtKkH_iW7f"
      },
      "source": [
        "### Loading the dataset\n",
        "The studied dataset is included into the tnetwork library"
      ]
    },
    {
      "cell_type": "code",
      "metadata": {
        "id": "Dnz4bIbRiW7g",
        "colab": {
          "base_uri": "https://localhost:8080/"
        },
        "outputId": "46aeef84-2176-4d5c-8a8b-f51216893f48"
      },
      "source": [
        "primary_school = tn.graph_socioPatterns_Primary_School(tn.DynGraphSN)"
      ],
      "execution_count": 31,
      "outputs": [
        {
          "output_type": "stream",
          "name": "stdout",
          "text": [
            "graph will be loaded as:  <class 'tnetwork.dyn_graph.dyn_graph_sn.DynGraphSN'>\n"
          ]
        }
      ]
    },
    {
      "cell_type": "code",
      "metadata": {
        "id": "C337kU9XiW7j"
      },
      "source": [
        "classes = tn.utils.community_utils.read_socioPatterns_Primary_School_com()\n",
        "classes = {int(k):v for k,v in classes.items()}"
      ],
      "execution_count": 32,
      "outputs": []
    },
    {
      "cell_type": "markdown",
      "metadata": {
        "id": "f3Kv6hb8iW7l"
      },
      "source": [
        "### Cleaning\n",
        "We start by removing nodes not belonging to chosen classes"
      ]
    },
    {
      "cell_type": "code",
      "metadata": {
        "id": "8Nktb3liiW7q"
      },
      "source": [
        "node_activity = {k:len(p) for k,p in primary_school.node_presence().items()}\n",
        "to_remove={n for n,v in node_activity.items() if classes[n] not in {\"1B\",\"2B\",\"3B\",\"5B\"}}\n",
        "results = primary_school.apply_nx_function(nx.Graph.remove_nodes_from,nodes=to_remove)"
      ],
      "execution_count": 33,
      "outputs": []
    },
    {
      "cell_type": "markdown",
      "metadata": {
        "id": "Q3cd93CIiW7s"
      },
      "source": [
        "We also defined an ordering of nodes, based on classes"
      ]
    },
    {
      "cell_type": "code",
      "metadata": {
        "id": "R4BEhTfwiW7s"
      },
      "source": [
        "ordered_nodes = sorted([(n,cl) for n,cl in classes.items()],key=lambda x:x[1])\n",
        "ordered_nodes = [x[0] for x in ordered_nodes if not x[0] in to_remove]\n"
      ],
      "execution_count": 34,
      "outputs": []
    },
    {
      "cell_type": "markdown",
      "metadata": {
        "id": "ULmvkzlpiW7w"
      },
      "source": [
        "We can now compute stable communities. We let the default parameters, but for the granularity limit, since 20s is \n",
        "the rate at which data are collected for this dataset. Note that in the dataset, dates of interaction is represented as timestamps,\n",
        "therefore in term of number of seconds since origin."
      ]
    },
    {
      "cell_type": "code",
      "metadata": {
        "id": "sdxMXW3piW7w",
        "colab": {
          "base_uri": "https://localhost:8080/"
        },
        "outputId": "320dbc93-e4e4-4b18-abd0-50b138c88943"
      },
      "source": [
        "persistant_coms_school = MSSCD(primary_school,t_granularity=20)"
      ],
      "execution_count": 35,
      "outputs": [
        {
          "output_type": "stream",
          "name": "stderr",
          "text": [
            "\r                                                                               \r\rN/A% (0 of 3) |                          | Elapsed Time: 0:00:00 ETA:  --:--:--"
          ]
        },
        {
          "output_type": "stream",
          "name": "stdout",
          "text": [
            "starting no_smoothing\n"
          ]
        },
        {
          "output_type": "stream",
          "name": "stderr",
          "text": [
            "\r                                                                               \r\r 33% (1 of 3) |########                  | Elapsed Time: 0:00:00 ETA:  00:00:00"
          ]
        },
        {
          "output_type": "stream",
          "name": "stdout",
          "text": [
            "------- granularity (gamma):  38966  |  # good seeds:  0 # persistent communities found (total):  0\n"
          ]
        },
        {
          "output_type": "stream",
          "name": "stderr",
          "text": [
            "\r                                                                               \r\rN/A% (0 of 5) |                          | Elapsed Time: 0:00:00 ETA:  --:--:--"
          ]
        },
        {
          "output_type": "stream",
          "name": "stdout",
          "text": [
            "starting no_smoothing\n"
          ]
        },
        {
          "output_type": "stream",
          "name": "stderr",
          "text": [
            "\r                                                                               \r\r 40% (2 of 5) |##########                | Elapsed Time: 0:00:00 ETA:  00:00:00"
          ]
        },
        {
          "output_type": "stream",
          "name": "stdout",
          "text": [
            "------- granularity (gamma):  19483  |  # good seeds:  13 # persistent communities found (total):  1\n"
          ]
        },
        {
          "output_type": "stream",
          "name": "stderr",
          "text": [
            "\r                                                                               \r\rN/A% (0 of 9) |                          | Elapsed Time: 0:00:00 ETA:  --:--:--"
          ]
        },
        {
          "output_type": "stream",
          "name": "stdout",
          "text": [
            "starting no_smoothing\n"
          ]
        },
        {
          "output_type": "stream",
          "name": "stderr",
          "text": [
            " 66% (6 of 9) |#################         | Elapsed Time: 0:00:00 ETA:   0:00:00"
          ]
        },
        {
          "output_type": "stream",
          "name": "stdout",
          "text": [
            "------- granularity (gamma):  9741  |  # good seeds:  29 # persistent communities found (total):  2\n"
          ]
        },
        {
          "output_type": "stream",
          "name": "stderr",
          "text": [
            "\r                                                                               \r\rN/A% (0 of 15) |                         | Elapsed Time: 0:00:00 ETA:  --:--:--"
          ]
        },
        {
          "output_type": "stream",
          "name": "stdout",
          "text": [
            "starting no_smoothing\n"
          ]
        },
        {
          "output_type": "stream",
          "name": "stderr",
          "text": [
            " 66% (10 of 15) |################        | Elapsed Time: 0:00:00 ETA:   0:00:00"
          ]
        },
        {
          "output_type": "stream",
          "name": "stdout",
          "text": [
            "------- granularity (gamma):  4870  |  # good seeds:  54 # persistent communities found (total):  3\n"
          ]
        },
        {
          "output_type": "stream",
          "name": "stderr",
          "text": [
            "\r                                                                               \r\rN/A% (0 of 27) |                         | Elapsed Time: 0:00:00 ETA:  --:--:--"
          ]
        },
        {
          "output_type": "stream",
          "name": "stdout",
          "text": [
            "starting no_smoothing\n"
          ]
        },
        {
          "output_type": "stream",
          "name": "stderr",
          "text": [
            " 81% (22 of 27) |###################     | Elapsed Time: 0:00:00 ETA:   0:00:00"
          ]
        },
        {
          "output_type": "stream",
          "name": "stdout",
          "text": [
            "------- granularity (gamma):  2435  |  # good seeds:  96 # persistent communities found (total):  6\n"
          ]
        },
        {
          "output_type": "stream",
          "name": "stderr",
          "text": [
            "\r                                                                               \r\rN/A% (0 of 53) |                         | Elapsed Time: 0:00:00 ETA:  --:--:--"
          ]
        },
        {
          "output_type": "stream",
          "name": "stdout",
          "text": [
            "starting no_smoothing\n"
          ]
        },
        {
          "output_type": "stream",
          "name": "stderr",
          "text": [
            " 92% (49 of 53) |######################  | Elapsed Time: 0:00:00 ETA:   0:00:00"
          ]
        },
        {
          "output_type": "stream",
          "name": "stdout",
          "text": [
            "------- granularity (gamma):  1217  |  # good seeds:  180 # persistent communities found (total):  8\n"
          ]
        },
        {
          "output_type": "stream",
          "name": "stderr",
          "text": [
            "\r                                                                               \r\rN/A% (0 of 104) |                        | Elapsed Time: 0:00:00 ETA:  --:--:--"
          ]
        },
        {
          "output_type": "stream",
          "name": "stdout",
          "text": [
            "starting no_smoothing\n"
          ]
        },
        {
          "output_type": "stream",
          "name": "stderr",
          "text": [
            " 99% (103 of 104) |##################### | Elapsed Time: 0:00:01 ETA:   0:00:00"
          ]
        },
        {
          "output_type": "stream",
          "name": "stdout",
          "text": [
            "------- granularity (gamma):  608  |  # good seeds:  325 # persistent communities found (total):  17\n"
          ]
        },
        {
          "output_type": "stream",
          "name": "stderr",
          "text": [
            "\r                                                                               \r\rN/A% (0 of 206) |                        | Elapsed Time: 0:00:00 ETA:  --:--:--"
          ]
        },
        {
          "output_type": "stream",
          "name": "stdout",
          "text": [
            "starting no_smoothing\n"
          ]
        },
        {
          "output_type": "stream",
          "name": "stderr",
          "text": [
            " 99% (204 of 206) |##################### | Elapsed Time: 0:00:03 ETA:   0:00:00"
          ]
        },
        {
          "output_type": "stream",
          "name": "stdout",
          "text": [
            "------- granularity (gamma):  304  |  # good seeds:  569 # persistent communities found (total):  29\n"
          ]
        },
        {
          "output_type": "stream",
          "name": "stderr",
          "text": [
            "\r                                                                               \r\rN/A% (0 of 410) |                        | Elapsed Time: 0:00:00 ETA:  --:--:--"
          ]
        },
        {
          "output_type": "stream",
          "name": "stdout",
          "text": [
            "starting no_smoothing\n"
          ]
        },
        {
          "output_type": "stream",
          "name": "stderr",
          "text": [
            " 96% (395 of 410) |##################### | Elapsed Time: 0:00:01 ETA:   0:00:00"
          ]
        },
        {
          "output_type": "stream",
          "name": "stdout",
          "text": [
            "------- granularity (gamma):  152  |  # good seeds:  932 # persistent communities found (total):  48\n"
          ]
        },
        {
          "output_type": "stream",
          "name": "stderr",
          "text": [
            "\r                                                                               \r\rN/A% (0 of 817) |                        | Elapsed Time: 0:00:00 ETA:  --:--:--"
          ]
        },
        {
          "output_type": "stream",
          "name": "stdout",
          "text": [
            "starting no_smoothing\n"
          ]
        },
        {
          "output_type": "stream",
          "name": "stderr",
          "text": [
            " 97% (797 of 817) |##################### | Elapsed Time: 0:00:03 ETA:   0:00:00"
          ]
        },
        {
          "output_type": "stream",
          "name": "stdout",
          "text": [
            "------- granularity (gamma):  76  |  # good seeds:  1419 # persistent communities found (total):  62\n"
          ]
        },
        {
          "output_type": "stream",
          "name": "stderr",
          "text": [
            "\r                                                                               \r\rN/A% (0 of 1632) |                       | Elapsed Time: 0:00:00 ETA:  --:--:--"
          ]
        },
        {
          "output_type": "stream",
          "name": "stdout",
          "text": [
            "starting no_smoothing\n"
          ]
        },
        {
          "output_type": "stream",
          "name": "stderr",
          "text": [
            " 98% (1612 of 1632) |################### | Elapsed Time: 0:00:04 ETA:   0:00:00"
          ]
        },
        {
          "output_type": "stream",
          "name": "stdout",
          "text": [
            "------- granularity (gamma):  38  |  # good seeds:  1782 # persistent communities found (total):  91\n"
          ]
        }
      ]
    },
    {
      "cell_type": "markdown",
      "metadata": {
        "id": "aTT6aygeiW7y"
      },
      "source": [
        "# Plotting the found communities\n",
        "### We start by plotting communities of duration more than 2 hours\n",
        "Note that unlike in the article, here, we do not filter on a single day. One can filter using the `slice` function of class `tn.DynGraphIG`. Alternatively, interactive tools allow to zoom in the figure"
      ]
    },
    {
      "cell_type": "code",
      "source": [
        ""
      ],
      "metadata": {
        "id": "rL5ab5QtffWp"
      },
      "execution_count": 40,
      "outputs": []
    },
    {
      "cell_type": "code",
      "source": [
        "def filter_communities(persistant_coms,duration_min=0,duration_max=10000000):\n",
        "    visu_blocks = tn.DynCommunitiesIG()\n",
        "    for com,nodes in persistant_coms.communities().items():\n",
        "        for node in nodes:\n",
        "          period = nodes[node]\n",
        "          duration = period.duration()\n",
        "          break# get the first node's duration since they are all the same\n",
        "        if duration>duration_min and duration<duration_max:\n",
        "          #name = str(period.start()).zfill(5)+\",\"+str(nodes)+\",\"+str(current_granularity)\n",
        "          visu_blocks.add_affiliation(list(nodes.keys()),com,period)\n",
        "    return visu_blocks"
      ],
      "metadata": {
        "id": "moGvMFa1fK_m"
      },
      "execution_count": 37,
      "outputs": []
    },
    {
      "cell_type": "code",
      "metadata": {
        "id": "oZRVZc79iW7z",
        "colab": {
          "base_uri": "https://localhost:8080/",
          "height": 847
        },
        "outputId": "24a5c368-a3eb-4e63-bd6c-d1702abe87ec"
      },
      "source": [
        "\n",
        "com_to_plot = filter_communities(persistant_coms_school,duration_min=60*60*2)\n",
        "tn.plot_longitudinal(tn.DynGraphIG(),com_to_plot,height=400,to_datetime=True,nodes=ordered_nodes)\n"
      ],
      "execution_count": 38,
      "outputs": [
        {
          "output_type": "stream",
          "name": "stderr",
          "text": [
            "/usr/local/lib/python3.7/dist-packages/numpy/core/numeric.py:2446: FutureWarning: elementwise comparison failed; returning scalar instead, but in the future will perform elementwise comparison\n",
            "  return bool(asarray(a1 == a2).all())\n"
          ]
        },
        {
          "output_type": "execute_result",
          "data": {
            "text/plain": [
              "<Figure size 800x400 with 1 Axes>"
            ],
            "image/png": "[encoded data removed]"
          },
          "metadata": {},
          "execution_count": 38
        },
        {
          "output_type": "display_data",
          "data": {
            "text/plain": [
              "<Figure size 800x400 with 1 Axes>"
            ],
            "image/png": "[encoded data removed]"
          },
          "metadata": {
            "needs_background": "light"
          }
        }
      ]
    },
    {
      "cell_type": "markdown",
      "metadata": {
        "id": "dRQ_6FI_iW8B"
      },
      "source": [
        "### Then communities of less than half an hour"
      ]
    },
    {
      "cell_type": "code",
      "metadata": {
        "id": "VuDqLUSgiW8C",
        "colab": {
          "base_uri": "https://localhost:8080/",
          "height": 847
        },
        "outputId": "da9473a4-df4c-425a-98de-daf7d401c142"
      },
      "source": [
        "com_to_plot = filter_communities(persistant_coms_school,duration_max=60*30)\n",
        "#com_to_plot = com_to_plot.slice(1254386420,1254410770)\n",
        "tn.plot_longitudinal(tn.DynGraphIG(),com_to_plot,height=400,to_datetime=True,nodes=ordered_nodes)"
      ],
      "execution_count": 39,
      "outputs": [
        {
          "output_type": "stream",
          "name": "stderr",
          "text": [
            "/usr/local/lib/python3.7/dist-packages/numpy/core/numeric.py:2446: FutureWarning: elementwise comparison failed; returning scalar instead, but in the future will perform elementwise comparison\n",
            "  return bool(asarray(a1 == a2).all())\n"
          ]
        },
        {
          "output_type": "execute_result",
          "data": {
            "text/plain": [
              "<Figure size 800x400 with 1 Axes>"
            ],
            "image/png": "[encoded data removed]"
          },
          "metadata": {},
          "execution_count": 39
        },
        {
          "output_type": "display_data",
          "data": {
            "text/plain": [
              "<Figure size 800x400 with 1 Axes>"
            ],
            "image/png": "[encoded data removed]"
          },
          "metadata": {
            "needs_background": "light"
          }
        }
      ]
    },
    {
      "cell_type": "markdown",
      "metadata": {
        "id": "IVWfictgiW8E"
      },
      "source": [
        "### Finally, remaining communities"
      ]
    },
    {
      "cell_type": "code",
      "metadata": {
        "id": "He0LCDkEiW8F",
        "colab": {
          "base_uri": "https://localhost:8080/",
          "height": 847
        },
        "outputId": "e8cdcc5f-cbdb-4788-8c56-f92fd92867c9"
      },
      "source": [
        "com_to_plot = filter_communities(persistant_coms_school,duration_min=60*30,duration_max=60*60*2)\n",
        "#com_to_plot = com_to_plot.slice(1254386420,1254410770)\n",
        "tn.plot_longitudinal(tn.DynGraphIG(),com_to_plot,height=400,to_datetime=True,nodes=ordered_nodes)"
      ],
      "execution_count": 40,
      "outputs": [
        {
          "output_type": "stream",
          "name": "stderr",
          "text": [
            "/usr/local/lib/python3.7/dist-packages/numpy/core/numeric.py:2446: FutureWarning: elementwise comparison failed; returning scalar instead, but in the future will perform elementwise comparison\n",
            "  return bool(asarray(a1 == a2).all())\n"
          ]
        },
        {
          "output_type": "execute_result",
          "data": {
            "text/plain": [
              "<Figure size 800x400 with 1 Axes>"
            ],
            "image/png": "[encoded data removed]"
          },
          "metadata": {},
          "execution_count": 40
        },
        {
          "output_type": "display_data",
          "data": {
            "text/plain": [
              "<Figure size 800x400 with 1 Axes>"
            ],
            "image/png": "[encoded data removed]"
          },
          "metadata": {
            "needs_background": "light"
          }
        }
      ]
    },
    {
      "cell_type": "code",
      "metadata": {
        "id": "nUwWl-ijj-pE"
      },
      "source": [
        ""
      ],
      "execution_count": 40,
      "outputs": []
    }
  ]
}